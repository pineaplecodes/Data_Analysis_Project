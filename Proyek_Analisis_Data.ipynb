{
 "cells": [
  {
   "cell_type": "markdown",
   "metadata": {
    "id": "H9wADwK78DCz"
   },
   "source": [
    "# Proyek Analisis Data: [E-Commerce Public Dataset]\n",
    "- **Nama:** Allia Chyanda Putri\n",
    "- **Email:** m128b4kx0405@bangkit.academy\n",
    "- **ID Dicoding:** allia_chyanda_putri_m128b4kx0405_m4Qu"
   ]
  },
  {
   "cell_type": "markdown",
   "metadata": {
    "id": "eE0raob58DC0"
   },
   "source": [
    "## Menentukan Pertanyaan Bisnis"
   ]
  },
  {
   "cell_type": "markdown",
   "metadata": {
    "id": "GmQeQ5YF8DC0"
   },
   "source": [
    "- Apa saja 10 kota teratas dengan jumlah\n",
    "penjual terbanyak?\n",
    "- Apa kategori produk yang paling populer?\n",
    "- Apa jenis pembayaran yang paling banyak digunakan dan berapa total uang yang dibayarkan menggunakan jenis pembayaran tersebut?"
   ]
  },
  {
   "cell_type": "markdown",
   "metadata": {
    "id": "H-z4QGlO8DC1"
   },
   "source": [
    "## Import Semua Packages/Library yang Digunakan"
   ]
  },
  {
   "cell_type": "code",
   "execution_count": 1,
   "metadata": {
    "id": "FVYwaObI8DC1"
   },
   "outputs": [],
   "source": [
    "import io\n",
    "import pandas as pd\n",
    "import matplotlib.pyplot as plt\n",
    "import numpy as np\n",
    "import seaborn as sns"
   ]
  },
  {
   "cell_type": "markdown",
   "metadata": {
    "id": "h_Sh51Xy8DC1"
   },
   "source": [
    "## Data Wrangling"
   ]
  },
  {
   "cell_type": "markdown",
   "metadata": {
    "id": "sXU2GBYu8DC1"
   },
   "source": [
    "### Gathering Data"
   ]
  },
  {
   "cell_type": "code",
   "execution_count": 2,
   "metadata": {
    "id": "zjCBk1BI8DC1"
   },
   "outputs": [],
   "source": [
    "df_sellers = pd.read_csv('data\\sellers_dataset.csv')\n",
    "df_products = pd.read_csv('data\\products_dataset.csv')\n",
    "df_payments = pd.read_csv('data\\order_payments_dataset.csv')"
   ]
  },
  {
   "cell_type": "markdown",
   "metadata": {
    "id": "MMi6xGaDkbCi"
   },
   "source": [
    "**Insight:**\n",
    "- Data untuk sellers, products, dan payments berhasil di-load.\n",
    "- Siap untuk melakukan Exploratory Data Analysis (EDA) untuk mendapatkan pemahaman lebih dalam tentang distribusi dan kualitas data.\n"
   ]
  },
  {
   "cell_type": "markdown",
   "metadata": {
    "id": "FHSiqaZp8DC1"
   },
   "source": [
    "### Assessing Data"
   ]
  },
  {
   "cell_type": "code",
   "execution_count": 3,
   "metadata": {
    "id": "ax-3tEjc9Cj1"
   },
   "outputs": [
    {
     "name": "stdout",
     "output_type": "stream",
     "text": [
      "<class 'pandas.core.frame.DataFrame'>\n",
      "RangeIndex: 3095 entries, 0 to 3094\n",
      "Data columns (total 4 columns):\n",
      " #   Column                  Non-Null Count  Dtype \n",
      "---  ------                  --------------  ----- \n",
      " 0   seller_id               3095 non-null   object\n",
      " 1   seller_zip_code_prefix  3095 non-null   int64 \n",
      " 2   seller_city             3095 non-null   object\n",
      " 3   seller_state            3095 non-null   object\n",
      "dtypes: int64(1), object(3)\n",
      "memory usage: 96.8+ KB\n",
      "<class 'pandas.core.frame.DataFrame'>\n",
      "RangeIndex: 32951 entries, 0 to 32950\n",
      "Data columns (total 9 columns):\n",
      " #   Column                      Non-Null Count  Dtype  \n",
      "---  ------                      --------------  -----  \n",
      " 0   product_id                  32951 non-null  object \n",
      " 1   product_category_name       32341 non-null  object \n",
      " 2   product_name_lenght         32341 non-null  float64\n",
      " 3   product_description_lenght  32341 non-null  float64\n",
      " 4   product_photos_qty          32341 non-null  float64\n",
      " 5   product_weight_g            32949 non-null  float64\n",
      " 6   product_length_cm           32949 non-null  float64\n",
      " 7   product_height_cm           32949 non-null  float64\n",
      " 8   product_width_cm            32949 non-null  float64\n",
      "dtypes: float64(7), object(2)\n",
      "memory usage: 2.3+ MB\n",
      "<class 'pandas.core.frame.DataFrame'>\n",
      "RangeIndex: 103886 entries, 0 to 103885\n",
      "Data columns (total 5 columns):\n",
      " #   Column                Non-Null Count   Dtype  \n",
      "---  ------                --------------   -----  \n",
      " 0   order_id              103886 non-null  object \n",
      " 1   payment_sequential    103886 non-null  int64  \n",
      " 2   payment_type          103886 non-null  object \n",
      " 3   payment_installments  103886 non-null  int64  \n",
      " 4   payment_value         103886 non-null  float64\n",
      "dtypes: float64(1), int64(2), object(2)\n",
      "memory usage: 4.0+ MB\n"
     ]
    }
   ],
   "source": [
    "df_sellers.info()\n",
    "df_products.info()\n",
    "df_payments.info()"
   ]
  },
  {
   "cell_type": "markdown",
   "metadata": {
    "id": "7dtxhAPrkhPL"
   },
   "source": [
    "**Insight:**\n",
    "- Tidak ada missing values signifikan di data penjual dan pembayaran, namun ada sedikit missing values di kolom dimensi produk.\n",
    "- Jumlah transaksi (data pembayaran) jauh lebih banyak daripada jumlah produk dan penjual, yang bisa mengindikasikan transaksi berulang atau banyak pembayaran untuk beberapa produk.\n"
   ]
  },
  {
   "cell_type": "code",
   "execution_count": 4,
   "metadata": {
    "id": "jVnYpprE9Evz"
   },
   "outputs": [
    {
     "data": {
      "text/plain": [
       "seller_id                 0\n",
       "seller_zip_code_prefix    0\n",
       "seller_city               0\n",
       "seller_state              0\n",
       "dtype: int64"
      ]
     },
     "execution_count": 4,
     "metadata": {},
     "output_type": "execute_result"
    }
   ],
   "source": [
    "#identifikasi missing value data sellers\n",
    "df_sellers.isnull().sum()"
   ]
  },
  {
   "cell_type": "code",
   "execution_count": 5,
   "metadata": {},
   "outputs": [
    {
     "data": {
      "text/plain": [
       "product_id                      0\n",
       "product_category_name         610\n",
       "product_name_lenght           610\n",
       "product_description_lenght    610\n",
       "product_photos_qty            610\n",
       "product_weight_g                2\n",
       "product_length_cm               2\n",
       "product_height_cm               2\n",
       "product_width_cm                2\n",
       "dtype: int64"
      ]
     },
     "execution_count": 5,
     "metadata": {},
     "output_type": "execute_result"
    }
   ],
   "source": [
    "#identifikasi missing value data products\n",
    "df_products.isnull().sum()"
   ]
  },
  {
   "cell_type": "code",
   "execution_count": 6,
   "metadata": {},
   "outputs": [
    {
     "data": {
      "text/plain": [
       "order_id                0\n",
       "payment_sequential      0\n",
       "payment_type            0\n",
       "payment_installments    0\n",
       "payment_value           0\n",
       "dtype: int64"
      ]
     },
     "execution_count": 6,
     "metadata": {},
     "output_type": "execute_result"
    }
   ],
   "source": [
    "#identifikasi missing value data order payment\n",
    "df_payments.isnull().sum()"
   ]
  },
  {
   "cell_type": "markdown",
   "metadata": {
    "id": "Q_5ejIqckiSP"
   },
   "source": [
    "**Insight:**\n",
    "- Data penjual dan pembayaran bebas dari missing values, jadi bisa langsung digunakan untuk analisis lebih lanjut.\n",
    "- Data produk punya beberapa missing values yang cukup signifikan di kolom kategori, nama, deskripsi, dan foto. Ini perlu diperhatikan, apalagi kalau analisis lu butuh informasi lengkap tentang produk."
   ]
  },
  {
   "cell_type": "code",
   "execution_count": 7,
   "metadata": {},
   "outputs": [
    {
     "data": {
      "text/plain": [
       "0"
      ]
     },
     "execution_count": 7,
     "metadata": {},
     "output_type": "execute_result"
    }
   ],
   "source": [
    "#duplikasi data seller\n",
    "df_sellers.duplicated().sum()\n",
    "#duplikasi data product\n",
    "df_products.duplicated().sum()\n",
    "#duplikasi data payment\n",
    "df_payments.duplicated().sum()"
   ]
  },
  {
   "cell_type": "code",
   "execution_count": 8,
   "metadata": {},
   "outputs": [
    {
     "data": {
      "text/plain": [
       "array(['campinas', 'mogi guacu', 'rio de janeiro', 'sao paulo',\n",
       "       'braganca paulista', 'brejao', 'penapolis', 'curitiba', 'anapolis',\n",
       "       'itirapina', 'tubarao', 'lauro de freitas', 'imbituba', 'brasilia',\n",
       "       'porto seguro', 'guaruja', 'tabatinga', 'salto', 'tres de maio',\n",
       "       'belo horizonte', 'arapongas', 'sao bernardo do campo', 'tatui',\n",
       "       'garopaba', 'camanducaia', 'tupa', 'guarulhos',\n",
       "       'sao jose dos pinhais', 'sao ludgero', 'sao jose', 'piracicaba',\n",
       "       'porto alegre', 'congonhal', 'santo andre', 'osasco', 'valinhos',\n",
       "       'joinville', 'saquarema', 'barra velha', 'petropolis',\n",
       "       'santo antonio da patrulha', 'ponta grossa', 'santana de parnaiba',\n",
       "       'sao carlos', 'ibitinga', 'barueri', 'caxias do sul', 'araguari',\n",
       "       'contagem', 'jaragua do sul', 'lages - sc', 'bento goncalves',\n",
       "       'catanduva', 'ribeirao pires', 'jaboticabal', 'echapora', 'cotia',\n",
       "       'rio do sul', 'sorocaba', 'pradopolis', 'itaborai', 'mirassol',\n",
       "       'birigui', 'assis', 'jaguariuna', 'araraquara', 'macae',\n",
       "       'rio claro', 'londrina', 'ribeirao preto', 'tres coracoes',\n",
       "       'nhandeara', 'orleans', 'cuiaba', 'formosa do oeste', 'santos',\n",
       "       'santa terezinha de goias', 'arvorezinha', 'guiricema', 'caruaru',\n",
       "       'franca', 'salvador', 'diadema', 'itaquaquecetuba',\n",
       "       'lencois paulista', 'carapicuiba', 'uruacu', 'itajai', 'loanda',\n",
       "       'maringa', 'ferraz de vasconcelos', 'limeira', 'claudio',\n",
       "       'niteroi', 'osvaldo cruz', 'sao goncalo', 'jaciara',\n",
       "       'balenario camboriu', 'timbo', 'jacutinga', 'fortaleza',\n",
       "       'ferraz de  vasconcelos', 'mirandopolis', 'bauru', 'jacarei',\n",
       "       'itu', 'laranjeiras do sul', 'videira', 'florianopolis',\n",
       "       'itapecerica da serra', 'mamanguape', 'ponte nova', 'goioere',\n",
       "       'pederneiras', 'itapevi', 'goiania', 'campina grande',\n",
       "       'estancia velha', 'resende', 'maua', 'caratinga', 'auriflama/sp',\n",
       "       'cafelandia', 'uba', 'sao paulo / sao paulo',\n",
       "       'sao jose do rio preto', 'porto ferreira', 'tres coroas',\n",
       "       'blumenau', 'mogi das cruzes', 'jaci', 'laranjal paulista',\n",
       "       'americana', 'sertanopolis', 'apucarana', 'colombo',\n",
       "       'vicente de carvalho', 'mesquita', 'sao pauo', 'cascavel',\n",
       "       'fazenda rio grande', 'taboao da serra', 'sao jose dos campos',\n",
       "       'toledo', 'marechal candido rondon', 'jundiai', 'mandirituba',\n",
       "       'suzano', 'vespasiano', 'santa rosa', 'sao joaquim da barra',\n",
       "       'santo antonio de posse', 'uruguaiana', 'campanha', 'piracanjuba',\n",
       "       'concordia', 'santa rita do sapucai', 'barretos', 'indaiatuba',\n",
       "       'nilopolis', 'pompeia', 'barro alto', 'são paulo', 'praia grande',\n",
       "       'luiz alves', 'brusque', 'criciuma', 'jales', 'atibaia',\n",
       "       'rio branco', 'barra mansa', 'marilia', 'bahia', 'taubate',\n",
       "       'cascavael', 'monteiro lobato', 'viana', 'paraiba do sul',\n",
       "       'mococa', 'sao roque', 'passos', 'francisco beltrao', 'tocantins',\n",
       "       'porto belo', 'nova iguacu', 'icara', 'lajeado', 'horizontina',\n",
       "       'votorantim', 'campo bom', 'monte alto', 'fernandopolis',\n",
       "       'pedreira', 'poa', 'divinopolis', 'santa barbara d´oeste',\n",
       "       'canoas', 'mombuca', 'sete lagoas', 'campo do meio',\n",
       "       'cordeiropolis', 'uberlandia', 'santa barbara d oeste',\n",
       "       'volta redonda', '04482255', 'aracatuba', 'monte siao', 'garuva',\n",
       "       'bonfinopolis de minas', 'cosmopolis', 'pocos de caldas',\n",
       "       'artur nogueira', 'joao pessoa', 'dois corregos', 'araquari',\n",
       "       'novo hamburgo, rio grande do sul, brasil', 'floranopolis',\n",
       "       'sumare', 'guaira', 'cachoeiro de itapemirim', 'serrana',\n",
       "       'rolandia', 'congonhas', 'sao  jose dos pinhais', 'boituva',\n",
       "       'mairipora', 'guaimbe', 'parai', 'aperibe', 'jaguaruna',\n",
       "       'vila velha', 'juiz de fora', 'fronteira', 'novo horizonte',\n",
       "       'pilar do sul', 'itajobi', 'cariacica / es', 'prados', 'mucambo',\n",
       "       'montes claros', 'vicosa', 'porto velho', 'sao jose do rio pardo',\n",
       "       'pato branco', 'sao joao del rei', 'presidente prudente',\n",
       "       'paracambi', 'serra negra', 'sao caetano do sul', 'bom jardim',\n",
       "       'serra redonda', 'sao francisco do sul', 'betim', 'imbituva',\n",
       "       'guaratuba', 'teresina', \"sao miguel d'oeste\", 'california',\n",
       "       'japira', 'foz do iguacu', 'nova friburgo', 'itau de minas',\n",
       "       'oliveira', 'sabara', 'pedrinhas paulista', 'votuporanga',\n",
       "       'holambra', 'ararangua', 'pinhais', 'pato bragado', 'carazinho',\n",
       "       'arinos', 'sao pedro', 'lages', 'ampere', 'itauna', 'mogi mirim',\n",
       "       'curitibanos', 'brasilia df', 'mogi das cruses', 'hortolandia',\n",
       "       'ipatinga', 'laguna', 'dores de campos', 'sao paulo - sp',\n",
       "       'araras', 'divisa nova', 'igaracu do tiete', 'pitangueiras',\n",
       "       'campo grande', 'garca', 'presidente epitacio', 'sbc/sp',\n",
       "       \"arraial d'ajuda (porto seguro)\", 'pacatuba', 'formosa',\n",
       "       'borda da mata', 'ubatuba', 'entre rios do oeste', 'formiga',\n",
       "       'venancio aires', 'navegantes', 'cruzeiro', 'santa maria',\n",
       "       'muriae', 'santo andre/sao paulo', 'ipe', 'messias targino',\n",
       "       'varginha', 'botucatu', 'domingos martins', 'uberaba',\n",
       "       'coronel fabriciano', 'cachoeirinha', 's jose do rio preto',\n",
       "       'taruma', 'pirassununga', 'aruja', 'sp / sp', 'angra dos reis',\n",
       "       'juzeiro do norte', 'laurentino', 'flores da cunha', 'montenegro',\n",
       "       'pedregulho', 'novo hamburgo', 'torres', 'aracaju',\n",
       "       'santa catarina', 'joao pinheiro', 'bady bassitt', 'sinop',\n",
       "       'guarapuava', 'araucaria', 'vitoria', 'batatais', 'lagoa santa',\n",
       "       'chapeco', 'umuarama', 'belford roxo', 'cariacica',\n",
       "       'monte alegre do sul', 'sp', 'lagoa da prata', 'rolante',\n",
       "       'teresopolis', 'itaporanga', 'campo largo', 'sao joao de meriti',\n",
       "       'maua/sao paulo', 'bom jesus dos perdoes', 'brotas', 'irece',\n",
       "       'coxim', 'jau', 'conselheiro lafaiete', 'amparo',\n",
       "       'sao miguel do oeste', 'gaspar', 'rio bonito', 'mandaguari',\n",
       "       'vargem grande paulista', 'conchal', 'cambe', 'marialva',\n",
       "       'alfenas', 'balneario camboriu', 'palhoca', 'sao bernardo do capo',\n",
       "       'guara', 'colatina', 'franco da rocha', 'lambari',\n",
       "       'mogi das cruzes / sp', 'treze tilias',\n",
       "       'rio de janeiro \\\\rio de janeiro', 'paulo lopes', 'santa cecilia',\n",
       "       'braco do norte', 'floresta', 'farroupilha', 'castro', 'luziania',\n",
       "       'joao monlevade', 'pelotas', 'sao bento', 'campos dos goytacazes',\n",
       "       'ouro fino', 'sao jose dos pinhas', 'tiete', 'viamao', 'janauba',\n",
       "       'capivari', 'santa terezinha de itaipu', 'igrejinha',\n",
       "       'sao bento do sul', 'duque de caxias', 'araxa', 'canoinhas',\n",
       "       'recife', 'barbacena/ minas gerais', 'vera cruz', 'parnamirim',\n",
       "       'santo angelo', 'paincandu', 'tres rios', 'tanabi',\n",
       "       'portoferreira', 'itatiba', 'sarandi', 'cravinhos', 'morrinhos',\n",
       "       'bebedouro', 'almirante tamandare', 'bertioga', 'natal',\n",
       "       'belo horizont', 'ivoti', 'andira-pr', 'cerqueira cesar',\n",
       "       'marapoama', 'imigrante', 'mairinque', 'sao paulo sp',\n",
       "       'rio de janeiro / rio de janeiro', 'andradas', 'sando andre',\n",
       "       'nova odessa', 'paulinia', 'extrema', 'olimpia',\n",
       "       'angra dos reis rj', 'ronda alta', 'sao  paulo', 'sao vicente',\n",
       "       'pinhais/pr', 'portao', 'registro', 'ao bernardo do campo',\n",
       "       'carmo do cajuru', 'embu das artes', 'fernando prestes',\n",
       "       'castro pires', 'vargem grande do sul', 'campina das missoes',\n",
       "       'sao pedro da aldeia', 'miguelopolis', 'itapui', 'sbc', 'neopolis',\n",
       "       'mineiros do tiete', 'varzea paulista', 'nova lima', 'barbacena',\n",
       "       'caieiras', 'buritama', 'erechim', 'itapetininga', 'pinhalzinho',\n",
       "       'descalvado', 'pitanga', 'bage', 'taio', \"santa barbara d'oeste\",\n",
       "       'patos de minas', 'garulhos', 'jarinu', 'nova petropolis',\n",
       "       'ribeirao preto / sao paulo', 'camboriu', 'nova trento',\n",
       "       'sao luis', 'sao jose do rio pret', 'eusebio', 'itaipulandia',\n",
       "       'ipira', 'campo magro', 'tiradentes', 'sao paluo', 'baependi',\n",
       "       'embu guacu', 'paraiso do sul', 'aparecida', 'cataguases',\n",
       "       'bariri', 'abadia de goias', 'alambari', 'ji parana', 'vassouras',\n",
       "       'lorena', 'rodeio', 'louveira', 'guanhaes',\n",
       "       'santo antonio de padua', 'presidente getulio', 'campos novos',\n",
       "       'eunapolis', 'engenheiro coelho', 'rio das pedras',\n",
       "       'afonso claudio', 'carapicuiba / sao paulo', 'centro', 'parana',\n",
       "       'indaial', 'bombinhas', 'orlandia', 'itapeva', 'sao sebastiao',\n",
       "       'macatuba', 'sao joao da boa vista', 'teixeira soares',\n",
       "       'mandaguacu', 'rio do oeste', 'vendas@creditparts.com.br',\n",
       "       'armacao dos buzios', 'mateus leme', 'sao paulop',\n",
       "       'campo limpo paulista', 'socorro', 'serra', 'bocaiuva do sul',\n",
       "       'ilheus', 'imbe', 'soledade', 'cajamar', 'rio negrinho',\n",
       "       'clementina', 'francisco morato', 'rio grande', 'xaxim', 'manaus',\n",
       "       'terra boa', 'minas gerais', 'avare', 'ibirite',\n",
       "       'santa maria da serra', 'auriflama', 'condor', 'ibia', 'guanambi',\n",
       "       'caucaia', 'cordilheira alta', 'carmo da mata', 'ouro preto',\n",
       "       'pedro leopoldo', 'santa rosa de viterbo', 'xanxere',\n",
       "       'alvares machado', 'scao jose do rio pardo', 'ribeirao das neves',\n",
       "       'medianeira', 'massaranduba', 'cornelio procopio', 'pirituba',\n",
       "       'jambeiro', 'sao leopoldo', 'aguas claras df', 'ribeirao pretp',\n",
       "       'cianorte', 'feira de santana', 'cachoeira do sul', 'guariba',\n",
       "       'sao sebastiao da grama/sp', 'dracena', 'ourinhos',\n",
       "       'robeirao preto', 'cacador', 'gama', 'queimados', 'cananeia',\n",
       "       'presidente bernardes', 'pinhalao', 'sombrio', 'campo mourao',\n",
       "       'ilicinea', 'itabira', 'barrinha', 'jussara', 'uniao da vitoria',\n",
       "       'triunfo', 'santa cruz do sul', 'colorado', 'itapema', 'sapiranga',\n",
       "       'paranavai', 'alvorada', 'ipaussu', 'rio verde', 'mage',\n",
       "       'tabao da serra', 'bofete', 'picarras', 'marica', 'jaragua',\n",
       "       'governador valadares', 'rio de janeiro, rio de janeiro, brasil',\n",
       "       'pouso alegre', 'timoteo', 'muqui', 'ipua', 'jacarei / sao paulo',\n",
       "       'varzea alegre', 'guaratingueta', 'tambau', 'irati',\n",
       "       'riberao preto', 'aparecida de goiania', 'bandeirantes',\n",
       "       'vitoria de santo antao', 'palotina', 'leme'], dtype=object)"
      ]
     },
     "execution_count": 8,
     "metadata": {},
     "output_type": "execute_result"
    }
   ],
   "source": [
    "# memeriksa value yang tidak sesuai\n",
    "# memeriksa.unique\n",
    "df_sellers['seller_city'].unique()"
   ]
  },
  {
   "cell_type": "markdown",
   "metadata": {},
   "source": [
    "**Insight**\n",
    "- Inkonsistensi Penulisan Nama Kota: Ada beberapa variasi penulisan nama kota, seperti sao paulo, são paulo, dan sao pauo, yang dapat mengganggu analisis geografis. Data perlu dinormalisasi.\n",
    "- Data Tidak Relevan: Terdapat data yang tidak sesuai, seperti kode pos 04482255 dan email vendas@creditparts.com.br di kolom seller_city. Data ini harus dibersihkan.\n",
    "- Jangkauan Geografis yang Luas: Platform ini menarik penjual dari berbagai kota di Brasil, mulai dari kota besar hingga kecil, menunjukkan luasnya jangkauan pengguna."
   ]
  },
  {
   "cell_type": "markdown",
   "metadata": {
    "id": "EhN5R4hr8DC1"
   },
   "source": [
    "### Cleaning Data"
   ]
  },
  {
   "cell_type": "code",
   "execution_count": 9,
   "metadata": {},
   "outputs": [],
   "source": [
    "#Menghapus Missing Value data products\n",
    "df_products.dropna(axis=0, inplace=True)"
   ]
  },
  {
   "cell_type": "code",
   "execution_count": 10,
   "metadata": {},
   "outputs": [
    {
     "data": {
      "text/plain": [
       "product_id                    0\n",
       "product_category_name         0\n",
       "product_name_lenght           0\n",
       "product_description_lenght    0\n",
       "product_photos_qty            0\n",
       "product_weight_g              0\n",
       "product_length_cm             0\n",
       "product_height_cm             0\n",
       "product_width_cm              0\n",
       "dtype: int64"
      ]
     },
     "execution_count": 10,
     "metadata": {},
     "output_type": "execute_result"
    }
   ],
   "source": [
    "#mengecek kembali Missing Value yang sudah dihapus\n",
    "df_products.isnull().sum()"
   ]
  },
  {
   "cell_type": "code",
   "execution_count": 11,
   "metadata": {},
   "outputs": [],
   "source": [
    "# Menghapus baris yang mengandung nilai 'vendas@creditparts.com.br' dan '04482255'\n",
    "df_sellers = df_sellers[~df_sellers['seller_city'].isin(['vendas@creditparts.com.br', '04482255',])]\n",
    "\n",
    "# Mengganti nama kota yang tidak sesuai dengan nama yang benar\n",
    "df_sellers['seller_city'] = df_sellers['seller_city'].str.strip()  # Menghapus spasi di awal dan akhir\n",
    "df_sellers = df_sellers[~df_sellers['seller_city'].str.contains('-')] # menghapus data yang ada tanda -\n",
    "# Daftar penggantian nama kota yang tidak sesuai dengan nama yang benar\n",
    "corrections = {\n",
    "    'sao paluo': 'sao paulo',\n",
    "    'sao pauo': 'sao paulo',\n",
    "    'são paulo': 'sao paulo',\n",
    "    's paulo': 'sao paulo',\n",
    "    'sao  jose dos pinhais': 'sao jose dos pinhais',\n",
    "    'sao jose dos pinhas': 'sao jose dos pinhais',\n",
    "    'sao jose do rio pret': 'sao jose do rio preto',\n",
    "    'rio de janeiro \\\\rio de janeiro': 'rio de janeiro',\n",
    "    'floranopolis': 'florianopolis',\n",
    "    'ribeirao pretp': 'ribeirao preto',\n",
    "    'rio de janeiro, rio de janeiro, brasil': 'rio de janeiro',\n",
    "    'riberao preto': 'ribeirao preto',\n",
    "    'sao paulop': 'sao paulo',\n",
    "    'rio de janeiro / rio de janeiro': 'rio de janeiro',\n",
    "    'sao bernardo do capo': 'sao bernardo do campo',\n",
    "    'santo andre/sao paulo': 'santo andre',\n",
    "    's jose do rio preto': 'sao jose do rio preto',\n",
    "    'santo antonio da patrulha': 'santo antonio',\n",
    "    'santo andre/sao paulo': 'santo andre',\n",
    "    's bernardo do campo': 'sao bernardo do campo',\n",
    "    's jose do rio pardo': 'sao jose do rio pardo',\n",
    "    's jose dos campos': 'sao jose dos campos',\n",
    "    'campo limpo paulista': 'campo limpo',\n",
    "    'sao goncalo': 'sao goncalo',\n",
    "    'sao goncalo do amarante': 'sao goncalo',\n",
    "    'sao mateus do sul': 'sao mateus',\n",
    "    'campo mourao': 'campo mourao',\n",
    "    'sao joao da boa vista': 'sao joao da boa vista',\n",
    "    's jose dos pinhais': 'sao jose dos pinhais',\n",
    "    'sao caetano do sul': 'sao caetano do sul',\n",
    "    'sao sebastiao': 'sao sebastiao',\n",
    "    'sao vicente': 'sao vicente',\n",
    "    'sao jose': 'sao jose',\n",
    "    'sao jose do rio preto': 'sao jose do rio preto',\n",
    "    'sao jose dos campos': 'sao jose dos campos',\n",
    "    'sao jose dos pinhais': 'sao jose dos pinhais',\n",
    "    'sao jose do rio pardo': 'sao jose do rio pardo',\n",
    "    'sao bernardo do campo': 'sao bernardo do campo',\n",
    "    'sao bernardo do campo': 'sao bernardo do campo',\n",
    "    'sao paulo / sao paulo': 'sao paulo',\n",
    "    'santo antonio': 'santo antonio',\n",
    "    'santo andre': 'santo andre',\n",
    "    'sao joao del rei': 'sao joao del rei',\n",
    "    'santo angelo': 'santo angelo',\n",
    "    'sao joaquim da barra': 'sao joaquim da barra',\n",
    "    'sao francisco do sul': 'sao francisco do sul',\n",
    "    'sao miguel do oeste': 'sao miguel do oeste',\n",
    "    'sao miguel d oeste': 'sao miguel do oeste',\n",
    "    'sao miguel d\\'oeste': 'sao miguel do oeste',\n",
    "    'sao miguel d\\'oeste': 'sao miguel do oeste',\n",
    "    'sao  jose dos pinhais': 'sao jose dos pinhais',\n",
    "    'sao jose dos pinhas': 'sao jose dos pinhais',\n",
    "    'sao jose do rio pret': 'sao jose do rio preto',\n",
    "    'sao pedro da aldeia': 'sao pedro da aldeia',\n",
    "    'sao paulo/sp': 'sao paulo',\n",
    "    'sao paulo / sao paulo': 'sao paulo',\n",
    "    'sao paulo sp': 'sao paulo',\n",
    "    'sao paulo / sao paulo': 'sao paulo',\n",
    "    'sao paulo/sao paulo': 'sao paulo',\n",
    "    'sao pedro': 'sao pedro',\n",
    "    'sao sebastiao da grama/sp': 'sao sebastiao da grama',\n",
    "    'sao  jose do rio pardo': 'sao jose do rio pardo',\n",
    "    'sao vicente': 'sao vicente',\n",
    "    'santo andre/sao paulo': 'santo andre',\n",
    "    'santo angelo': 'santo angelo',\n",
    "    'santo antonio': 'santo antonio',\n",
    "    'santo antonio da patrulha': 'santo antonio',\n",
    "    'santo antonio de posse': 'santo antonio de posse',\n",
    "    'sao bernardo do capo': 'sao bernardo do campo',\n",
    "    'sao goncalo': 'sao goncalo',\n",
    "    'sao goncalo do amarante': 'sao goncalo',\n",
    "    'sao jose': 'sao jose',\n",
    "    'sao jose da bela vista': 'sao jose da bela vista',\n",
    "    'sao jose da coroa grande': 'sao jose da coroa grande',\n",
    "    'sao jose da lapa': 'sao jose da lapa',\n",
    "    'sao jose da safira': 'sao jose da safira',\n",
    "    'sao jose das missões': 'sao jose das missoes',\n",
    "    'sao jose das palmeiras': 'sao jose das palmeiras',\n",
    "    'sao jose das trs ilhas': 'sao jose das tres ilhas',\n",
    "}\n",
    "\n",
    "\n",
    "\n",
    "# Melakukan penggantian nama kota yang tidak sesuai dengan nama yang benar\n",
    "df_sellers['seller_city'].replace(corrections, inplace=True)"
   ]
  },
  {
   "cell_type": "code",
   "execution_count": 12,
   "metadata": {},
   "outputs": [
    {
     "data": {
      "text/plain": [
       "array(['campinas', 'mogi guacu', 'rio de janeiro', 'sao paulo',\n",
       "       'braganca paulista', 'brejao', 'penapolis', 'curitiba', 'anapolis',\n",
       "       'itirapina', 'tubarao', 'lauro de freitas', 'imbituba', 'brasilia',\n",
       "       'porto seguro', 'guaruja', 'tabatinga', 'salto', 'tres de maio',\n",
       "       'belo horizonte', 'arapongas', 'sao bernardo do campo', 'tatui',\n",
       "       'garopaba', 'camanducaia', 'tupa', 'guarulhos',\n",
       "       'sao jose dos pinhais', 'sao ludgero', 'sao jose', 'piracicaba',\n",
       "       'porto alegre', 'congonhal', 'santo andre', 'osasco', 'valinhos',\n",
       "       'joinville', 'saquarema', 'barra velha', 'petropolis',\n",
       "       'santo antonio', 'ponta grossa', 'santana de parnaiba',\n",
       "       'sao carlos', 'ibitinga', 'barueri', 'caxias do sul', 'araguari',\n",
       "       'contagem', 'jaragua do sul', 'bento goncalves', 'catanduva',\n",
       "       'ribeirao pires', 'jaboticabal', 'echapora', 'cotia', 'rio do sul',\n",
       "       'sorocaba', 'pradopolis', 'itaborai', 'mirassol', 'birigui',\n",
       "       'assis', 'jaguariuna', 'araraquara', 'macae', 'rio claro',\n",
       "       'londrina', 'ribeirao preto', 'tres coracoes', 'nhandeara',\n",
       "       'orleans', 'cuiaba', 'formosa do oeste', 'santos',\n",
       "       'santa terezinha de goias', 'arvorezinha', 'guiricema', 'caruaru',\n",
       "       'franca', 'salvador', 'diadema', 'itaquaquecetuba',\n",
       "       'lencois paulista', 'carapicuiba', 'uruacu', 'itajai', 'loanda',\n",
       "       'maringa', 'ferraz de vasconcelos', 'limeira', 'claudio',\n",
       "       'niteroi', 'osvaldo cruz', 'sao goncalo', 'jaciara',\n",
       "       'balenario camboriu', 'timbo', 'jacutinga', 'fortaleza',\n",
       "       'ferraz de  vasconcelos', 'mirandopolis', 'bauru', 'jacarei',\n",
       "       'itu', 'laranjeiras do sul', 'videira', 'florianopolis',\n",
       "       'itapecerica da serra', 'mamanguape', 'ponte nova', 'goioere',\n",
       "       'pederneiras', 'itapevi', 'goiania', 'campina grande',\n",
       "       'estancia velha', 'resende', 'maua', 'caratinga', 'auriflama/sp',\n",
       "       'cafelandia', 'uba', 'sao jose do rio preto', 'porto ferreira',\n",
       "       'tres coroas', 'blumenau', 'mogi das cruzes', 'jaci',\n",
       "       'laranjal paulista', 'americana', 'sertanopolis', 'apucarana',\n",
       "       'colombo', 'vicente de carvalho', 'mesquita', 'cascavel',\n",
       "       'fazenda rio grande', 'taboao da serra', 'sao jose dos campos',\n",
       "       'toledo', 'marechal candido rondon', 'jundiai', 'mandirituba',\n",
       "       'suzano', 'vespasiano', 'santa rosa', 'sao joaquim da barra',\n",
       "       'santo antonio de posse', 'uruguaiana', 'campanha', 'piracanjuba',\n",
       "       'concordia', 'santa rita do sapucai', 'barretos', 'indaiatuba',\n",
       "       'nilopolis', 'pompeia', 'barro alto', 'são paulo', 'praia grande',\n",
       "       'luiz alves', 'brusque', 'criciuma', 'jales', 'atibaia',\n",
       "       'rio branco', 'barra mansa', 'marilia', 'bahia', 'taubate',\n",
       "       'cascavael', 'monteiro lobato', 'viana', 'paraiba do sul',\n",
       "       'mococa', 'sao roque', 'passos', 'francisco beltrao', 'tocantins',\n",
       "       'porto belo', 'nova iguacu', 'icara', 'lajeado', 'horizontina',\n",
       "       'votorantim', 'campo bom', 'monte alto', 'fernandopolis',\n",
       "       'pedreira', 'poa', 'divinopolis', 'santa barbara d´oeste',\n",
       "       'canoas', 'mombuca', 'sete lagoas', 'campo do meio',\n",
       "       'cordeiropolis', 'uberlandia', 'santa barbara d oeste',\n",
       "       'volta redonda', 'aracatuba', 'monte siao', 'garuva',\n",
       "       'bonfinopolis de minas', 'cosmopolis', 'pocos de caldas',\n",
       "       'artur nogueira', 'joao pessoa', 'dois corregos', 'araquari',\n",
       "       'novo hamburgo, rio grande do sul, brasil', 'sumare', 'guaira',\n",
       "       'cachoeiro de itapemirim', 'serrana', 'rolandia', 'congonhas',\n",
       "       'boituva', 'mairipora', 'guaimbe', 'parai', 'aperibe', 'jaguaruna',\n",
       "       'vila velha', 'juiz de fora', 'fronteira', 'novo horizonte',\n",
       "       'pilar do sul', 'itajobi', 'cariacica / es', 'prados', 'mucambo',\n",
       "       'montes claros', 'vicosa', 'porto velho', 'sao jose do rio pardo',\n",
       "       'pato branco', 'sao joao del rei', 'presidente prudente',\n",
       "       'paracambi', 'serra negra', 'sao caetano do sul', 'bom jardim',\n",
       "       'serra redonda', 'sao francisco do sul', 'betim', 'imbituva',\n",
       "       'guaratuba', 'teresina', 'sao miguel do oeste', 'california',\n",
       "       'japira', 'foz do iguacu', 'nova friburgo', 'itau de minas',\n",
       "       'oliveira', 'sabara', 'pedrinhas paulista', 'votuporanga',\n",
       "       'holambra', 'ararangua', 'pinhais', 'pato bragado', 'carazinho',\n",
       "       'arinos', 'sao pedro', 'lages', 'ampere', 'itauna', 'mogi mirim',\n",
       "       'curitibanos', 'brasilia df', 'mogi das cruses', 'hortolandia',\n",
       "       'ipatinga', 'laguna', 'dores de campos', 'araras', 'divisa nova',\n",
       "       'igaracu do tiete', 'pitangueiras', 'campo grande', 'garca',\n",
       "       'presidente epitacio', 'sbc/sp', \"arraial d'ajuda (porto seguro)\",\n",
       "       'pacatuba', 'formosa', 'borda da mata', 'ubatuba',\n",
       "       'entre rios do oeste', 'formiga', 'venancio aires', 'navegantes',\n",
       "       'cruzeiro', 'santa maria', 'muriae', 'ipe', 'messias targino',\n",
       "       'varginha', 'botucatu', 'domingos martins', 'uberaba',\n",
       "       'coronel fabriciano', 'cachoeirinha', 'taruma', 'pirassununga',\n",
       "       'aruja', 'sp / sp', 'angra dos reis', 'juzeiro do norte',\n",
       "       'laurentino', 'flores da cunha', 'montenegro', 'pedregulho',\n",
       "       'novo hamburgo', 'torres', 'aracaju', 'santa catarina',\n",
       "       'joao pinheiro', 'bady bassitt', 'sinop', 'guarapuava',\n",
       "       'araucaria', 'vitoria', 'batatais', 'lagoa santa', 'chapeco',\n",
       "       'umuarama', 'belford roxo', 'cariacica', 'monte alegre do sul',\n",
       "       'sp', 'lagoa da prata', 'rolante', 'teresopolis', 'itaporanga',\n",
       "       'campo largo', 'sao joao de meriti', 'maua/sao paulo',\n",
       "       'bom jesus dos perdoes', 'brotas', 'irece', 'coxim', 'jau',\n",
       "       'conselheiro lafaiete', 'amparo', 'gaspar', 'rio bonito',\n",
       "       'mandaguari', 'vargem grande paulista', 'conchal', 'cambe',\n",
       "       'marialva', 'alfenas', 'balneario camboriu', 'palhoca', 'guara',\n",
       "       'colatina', 'franco da rocha', 'lambari', 'mogi das cruzes / sp',\n",
       "       'treze tilias', 'paulo lopes', 'santa cecilia', 'braco do norte',\n",
       "       'floresta', 'farroupilha', 'castro', 'luziania', 'joao monlevade',\n",
       "       'pelotas', 'sao bento', 'campos dos goytacazes', 'ouro fino',\n",
       "       'tiete', 'viamao', 'janauba', 'capivari',\n",
       "       'santa terezinha de itaipu', 'igrejinha', 'sao bento do sul',\n",
       "       'duque de caxias', 'araxa', 'canoinhas', 'recife',\n",
       "       'barbacena/ minas gerais', 'vera cruz', 'parnamirim',\n",
       "       'santo angelo', 'paincandu', 'tres rios', 'tanabi',\n",
       "       'portoferreira', 'itatiba', 'sarandi', 'cravinhos', 'morrinhos',\n",
       "       'bebedouro', 'almirante tamandare', 'bertioga', 'natal',\n",
       "       'belo horizont', 'ivoti', 'cerqueira cesar', 'marapoama',\n",
       "       'imigrante', 'mairinque', 'andradas', 'sando andre', 'nova odessa',\n",
       "       'paulinia', 'extrema', 'olimpia', 'angra dos reis rj',\n",
       "       'ronda alta', 'sao  paulo', 'sao vicente', 'pinhais/pr', 'portao',\n",
       "       'registro', 'ao bernardo do campo', 'carmo do cajuru',\n",
       "       'embu das artes', 'fernando prestes', 'castro pires',\n",
       "       'vargem grande do sul', 'campina das missoes',\n",
       "       'sao pedro da aldeia', 'miguelopolis', 'itapui', 'sbc', 'neopolis',\n",
       "       'mineiros do tiete', 'varzea paulista', 'nova lima', 'barbacena',\n",
       "       'caieiras', 'buritama', 'erechim', 'itapetininga', 'pinhalzinho',\n",
       "       'descalvado', 'pitanga', 'bage', 'taio', \"santa barbara d'oeste\",\n",
       "       'patos de minas', 'garulhos', 'jarinu', 'nova petropolis',\n",
       "       'ribeirao preto / sao paulo', 'camboriu', 'nova trento',\n",
       "       'sao luis', 'eusebio', 'itaipulandia', 'ipira', 'campo magro',\n",
       "       'tiradentes', 'baependi', 'embu guacu', 'paraiso do sul',\n",
       "       'aparecida', 'cataguases', 'bariri', 'abadia de goias', 'alambari',\n",
       "       'ji parana', 'vassouras', 'lorena', 'rodeio', 'louveira',\n",
       "       'guanhaes', 'santo antonio de padua', 'presidente getulio',\n",
       "       'campos novos', 'eunapolis', 'engenheiro coelho', 'rio das pedras',\n",
       "       'afonso claudio', 'carapicuiba / sao paulo', 'centro', 'parana',\n",
       "       'indaial', 'bombinhas', 'orlandia', 'itapeva', 'sao sebastiao',\n",
       "       'macatuba', 'sao joao da boa vista', 'teixeira soares',\n",
       "       'mandaguacu', 'rio do oeste', 'armacao dos buzios', 'mateus leme',\n",
       "       'campo limpo', 'socorro', 'serra', 'bocaiuva do sul', 'ilheus',\n",
       "       'imbe', 'soledade', 'cajamar', 'rio negrinho', 'clementina',\n",
       "       'francisco morato', 'rio grande', 'xaxim', 'manaus', 'terra boa',\n",
       "       'minas gerais', 'avare', 'ibirite', 'santa maria da serra',\n",
       "       'auriflama', 'condor', 'ibia', 'guanambi', 'caucaia',\n",
       "       'cordilheira alta', 'carmo da mata', 'ouro preto',\n",
       "       'pedro leopoldo', 'santa rosa de viterbo', 'xanxere',\n",
       "       'alvares machado', 'scao jose do rio pardo', 'ribeirao das neves',\n",
       "       'medianeira', 'massaranduba', 'cornelio procopio', 'pirituba',\n",
       "       'jambeiro', 'sao leopoldo', 'aguas claras df', 'cianorte',\n",
       "       'feira de santana', 'cachoeira do sul', 'guariba',\n",
       "       'sao sebastiao da grama', 'dracena', 'ourinhos', 'robeirao preto',\n",
       "       'cacador', 'gama', 'queimados', 'cananeia', 'presidente bernardes',\n",
       "       'pinhalao', 'sombrio', 'campo mourao', 'ilicinea', 'itabira',\n",
       "       'barrinha', 'jussara', 'uniao da vitoria', 'triunfo',\n",
       "       'santa cruz do sul', 'colorado', 'itapema', 'sapiranga',\n",
       "       'paranavai', 'alvorada', 'ipaussu', 'rio verde', 'mage',\n",
       "       'tabao da serra', 'bofete', 'picarras', 'marica', 'jaragua',\n",
       "       'governador valadares', 'pouso alegre', 'timoteo', 'muqui', 'ipua',\n",
       "       'jacarei / sao paulo', 'varzea alegre', 'guaratingueta', 'tambau',\n",
       "       'irati', 'aparecida de goiania', 'bandeirantes',\n",
       "       'vitoria de santo antao', 'palotina', 'leme'], dtype=object)"
      ]
     },
     "execution_count": 12,
     "metadata": {},
     "output_type": "execute_result"
    }
   ],
   "source": [
    "#cek kembali\n",
    "df_sellers['seller_city'].unique()"
   ]
  },
  {
   "cell_type": "code",
   "execution_count": 13,
   "metadata": {},
   "outputs": [
    {
     "data": {
      "text/html": [
       "<div>\n",
       "<style scoped>\n",
       "    .dataframe tbody tr th:only-of-type {\n",
       "        vertical-align: middle;\n",
       "    }\n",
       "\n",
       "    .dataframe tbody tr th {\n",
       "        vertical-align: top;\n",
       "    }\n",
       "\n",
       "    .dataframe thead th {\n",
       "        text-align: right;\n",
       "    }\n",
       "</style>\n",
       "<table border=\"1\" class=\"dataframe\">\n",
       "  <thead>\n",
       "    <tr style=\"text-align: right;\">\n",
       "      <th></th>\n",
       "      <th>product_id</th>\n",
       "      <th>product_category_name</th>\n",
       "      <th>product_name_lenght</th>\n",
       "      <th>product_description_lenght</th>\n",
       "      <th>product_photos_qty</th>\n",
       "      <th>product_weight_g</th>\n",
       "      <th>product_length_cm</th>\n",
       "      <th>product_height_cm</th>\n",
       "      <th>product_width_cm</th>\n",
       "    </tr>\n",
       "  </thead>\n",
       "  <tbody>\n",
       "    <tr>\n",
       "      <th>0</th>\n",
       "      <td>1e9e8ef04dbcff4541ed26657ea517e5</td>\n",
       "      <td>perfumaria</td>\n",
       "      <td>40.0</td>\n",
       "      <td>287.0</td>\n",
       "      <td>1.0</td>\n",
       "      <td>225.0</td>\n",
       "      <td>16.0</td>\n",
       "      <td>10.0</td>\n",
       "      <td>14.0</td>\n",
       "    </tr>\n",
       "    <tr>\n",
       "      <th>1</th>\n",
       "      <td>3aa071139cb16b67ca9e5dea641aaa2f</td>\n",
       "      <td>artes</td>\n",
       "      <td>44.0</td>\n",
       "      <td>276.0</td>\n",
       "      <td>1.0</td>\n",
       "      <td>1000.0</td>\n",
       "      <td>30.0</td>\n",
       "      <td>18.0</td>\n",
       "      <td>20.0</td>\n",
       "    </tr>\n",
       "    <tr>\n",
       "      <th>2</th>\n",
       "      <td>96bd76ec8810374ed1b65e291975717f</td>\n",
       "      <td>esporte lazer</td>\n",
       "      <td>46.0</td>\n",
       "      <td>250.0</td>\n",
       "      <td>1.0</td>\n",
       "      <td>154.0</td>\n",
       "      <td>18.0</td>\n",
       "      <td>9.0</td>\n",
       "      <td>15.0</td>\n",
       "    </tr>\n",
       "    <tr>\n",
       "      <th>3</th>\n",
       "      <td>cef67bcfe19066a932b7673e239eb23d</td>\n",
       "      <td>bebes</td>\n",
       "      <td>27.0</td>\n",
       "      <td>261.0</td>\n",
       "      <td>1.0</td>\n",
       "      <td>371.0</td>\n",
       "      <td>26.0</td>\n",
       "      <td>4.0</td>\n",
       "      <td>26.0</td>\n",
       "    </tr>\n",
       "    <tr>\n",
       "      <th>4</th>\n",
       "      <td>9dc1a7de274444849c219cff195d0b71</td>\n",
       "      <td>utilidades domesticas</td>\n",
       "      <td>37.0</td>\n",
       "      <td>402.0</td>\n",
       "      <td>4.0</td>\n",
       "      <td>625.0</td>\n",
       "      <td>20.0</td>\n",
       "      <td>17.0</td>\n",
       "      <td>13.0</td>\n",
       "    </tr>\n",
       "    <tr>\n",
       "      <th>...</th>\n",
       "      <td>...</td>\n",
       "      <td>...</td>\n",
       "      <td>...</td>\n",
       "      <td>...</td>\n",
       "      <td>...</td>\n",
       "      <td>...</td>\n",
       "      <td>...</td>\n",
       "      <td>...</td>\n",
       "      <td>...</td>\n",
       "    </tr>\n",
       "    <tr>\n",
       "      <th>32946</th>\n",
       "      <td>a0b7d5a992ccda646f2d34e418fff5a0</td>\n",
       "      <td>moveis decoracao</td>\n",
       "      <td>45.0</td>\n",
       "      <td>67.0</td>\n",
       "      <td>2.0</td>\n",
       "      <td>12300.0</td>\n",
       "      <td>40.0</td>\n",
       "      <td>40.0</td>\n",
       "      <td>40.0</td>\n",
       "    </tr>\n",
       "    <tr>\n",
       "      <th>32947</th>\n",
       "      <td>bf4538d88321d0fd4412a93c974510e6</td>\n",
       "      <td>construcao ferramentas iluminacao</td>\n",
       "      <td>41.0</td>\n",
       "      <td>971.0</td>\n",
       "      <td>1.0</td>\n",
       "      <td>1700.0</td>\n",
       "      <td>16.0</td>\n",
       "      <td>19.0</td>\n",
       "      <td>16.0</td>\n",
       "    </tr>\n",
       "    <tr>\n",
       "      <th>32948</th>\n",
       "      <td>9a7c6041fa9592d9d9ef6cfe62a71f8c</td>\n",
       "      <td>cama mesa banho</td>\n",
       "      <td>50.0</td>\n",
       "      <td>799.0</td>\n",
       "      <td>1.0</td>\n",
       "      <td>1400.0</td>\n",
       "      <td>27.0</td>\n",
       "      <td>7.0</td>\n",
       "      <td>27.0</td>\n",
       "    </tr>\n",
       "    <tr>\n",
       "      <th>32949</th>\n",
       "      <td>83808703fc0706a22e264b9d75f04a2e</td>\n",
       "      <td>informatica acessorios</td>\n",
       "      <td>60.0</td>\n",
       "      <td>156.0</td>\n",
       "      <td>2.0</td>\n",
       "      <td>700.0</td>\n",
       "      <td>31.0</td>\n",
       "      <td>13.0</td>\n",
       "      <td>20.0</td>\n",
       "    </tr>\n",
       "    <tr>\n",
       "      <th>32950</th>\n",
       "      <td>106392145fca363410d287a815be6de4</td>\n",
       "      <td>cama mesa banho</td>\n",
       "      <td>58.0</td>\n",
       "      <td>309.0</td>\n",
       "      <td>1.0</td>\n",
       "      <td>2083.0</td>\n",
       "      <td>12.0</td>\n",
       "      <td>2.0</td>\n",
       "      <td>7.0</td>\n",
       "    </tr>\n",
       "  </tbody>\n",
       "</table>\n",
       "<p>32340 rows × 9 columns</p>\n",
       "</div>"
      ],
      "text/plain": [
       "                             product_id              product_category_name  \\\n",
       "0      1e9e8ef04dbcff4541ed26657ea517e5                         perfumaria   \n",
       "1      3aa071139cb16b67ca9e5dea641aaa2f                              artes   \n",
       "2      96bd76ec8810374ed1b65e291975717f                      esporte lazer   \n",
       "3      cef67bcfe19066a932b7673e239eb23d                              bebes   \n",
       "4      9dc1a7de274444849c219cff195d0b71              utilidades domesticas   \n",
       "...                                 ...                                ...   \n",
       "32946  a0b7d5a992ccda646f2d34e418fff5a0                   moveis decoracao   \n",
       "32947  bf4538d88321d0fd4412a93c974510e6  construcao ferramentas iluminacao   \n",
       "32948  9a7c6041fa9592d9d9ef6cfe62a71f8c                    cama mesa banho   \n",
       "32949  83808703fc0706a22e264b9d75f04a2e             informatica acessorios   \n",
       "32950  106392145fca363410d287a815be6de4                    cama mesa banho   \n",
       "\n",
       "       product_name_lenght  product_description_lenght  product_photos_qty  \\\n",
       "0                     40.0                       287.0                 1.0   \n",
       "1                     44.0                       276.0                 1.0   \n",
       "2                     46.0                       250.0                 1.0   \n",
       "3                     27.0                       261.0                 1.0   \n",
       "4                     37.0                       402.0                 4.0   \n",
       "...                    ...                         ...                 ...   \n",
       "32946                 45.0                        67.0                 2.0   \n",
       "32947                 41.0                       971.0                 1.0   \n",
       "32948                 50.0                       799.0                 1.0   \n",
       "32949                 60.0                       156.0                 2.0   \n",
       "32950                 58.0                       309.0                 1.0   \n",
       "\n",
       "       product_weight_g  product_length_cm  product_height_cm  \\\n",
       "0                 225.0               16.0               10.0   \n",
       "1                1000.0               30.0               18.0   \n",
       "2                 154.0               18.0                9.0   \n",
       "3                 371.0               26.0                4.0   \n",
       "4                 625.0               20.0               17.0   \n",
       "...                 ...                ...                ...   \n",
       "32946           12300.0               40.0               40.0   \n",
       "32947            1700.0               16.0               19.0   \n",
       "32948            1400.0               27.0                7.0   \n",
       "32949             700.0               31.0               13.0   \n",
       "32950            2083.0               12.0                2.0   \n",
       "\n",
       "       product_width_cm  \n",
       "0                  14.0  \n",
       "1                  20.0  \n",
       "2                  15.0  \n",
       "3                  26.0  \n",
       "4                  13.0  \n",
       "...                 ...  \n",
       "32946              40.0  \n",
       "32947              16.0  \n",
       "32948              27.0  \n",
       "32949              20.0  \n",
       "32950               7.0  \n",
       "\n",
       "[32340 rows x 9 columns]"
      ]
     },
     "execution_count": 13,
     "metadata": {},
     "output_type": "execute_result"
    }
   ],
   "source": [
    "#menghapus _ dalam kolom product_category_name\n",
    "df_products['product_category_name'] = df_products['product_category_name'].str.replace('_', ' ')\n",
    "\n",
    "# Cetak hasil setelah mengganti karakter \"_\"\n",
    "df_products"
   ]
  },
  {
   "cell_type": "markdown",
   "metadata": {
    "id": "gp-Y6wU38DC1"
   },
   "source": [
    "## Exploratory Data Analysis (EDA)"
   ]
  },
  {
   "cell_type": "markdown",
   "metadata": {
    "id": "MW7WF2kr8DC1"
   },
   "source": [
    "### Explore Seller"
   ]
  },
  {
   "cell_type": "code",
   "execution_count": 14,
   "metadata": {
    "id": "e9CQCZjk8DC2"
   },
   "outputs": [
    {
     "data": {
      "text/html": [
       "<div>\n",
       "<style scoped>\n",
       "    .dataframe tbody tr th:only-of-type {\n",
       "        vertical-align: middle;\n",
       "    }\n",
       "\n",
       "    .dataframe tbody tr th {\n",
       "        vertical-align: top;\n",
       "    }\n",
       "\n",
       "    .dataframe thead th {\n",
       "        text-align: right;\n",
       "    }\n",
       "</style>\n",
       "<table border=\"1\" class=\"dataframe\">\n",
       "  <thead>\n",
       "    <tr style=\"text-align: right;\">\n",
       "      <th></th>\n",
       "      <th>seller_id</th>\n",
       "      <th>seller_zip_code_prefix</th>\n",
       "      <th>seller_city</th>\n",
       "      <th>seller_state</th>\n",
       "    </tr>\n",
       "  </thead>\n",
       "  <tbody>\n",
       "    <tr>\n",
       "      <th>0</th>\n",
       "      <td>3442f8959a84dea7ee197c632cb2df15</td>\n",
       "      <td>13023</td>\n",
       "      <td>campinas</td>\n",
       "      <td>SP</td>\n",
       "    </tr>\n",
       "    <tr>\n",
       "      <th>1</th>\n",
       "      <td>d1b65fc7debc3361ea86b5f14c68d2e2</td>\n",
       "      <td>13844</td>\n",
       "      <td>mogi guacu</td>\n",
       "      <td>SP</td>\n",
       "    </tr>\n",
       "    <tr>\n",
       "      <th>2</th>\n",
       "      <td>ce3ad9de960102d0677a81f5d0bb7b2d</td>\n",
       "      <td>20031</td>\n",
       "      <td>rio de janeiro</td>\n",
       "      <td>RJ</td>\n",
       "    </tr>\n",
       "    <tr>\n",
       "      <th>3</th>\n",
       "      <td>c0f3eea2e14555b6faeea3dd58c1b1c3</td>\n",
       "      <td>4195</td>\n",
       "      <td>sao paulo</td>\n",
       "      <td>SP</td>\n",
       "    </tr>\n",
       "    <tr>\n",
       "      <th>4</th>\n",
       "      <td>51a04a8a6bdcb23deccc82b0b80742cf</td>\n",
       "      <td>12914</td>\n",
       "      <td>braganca paulista</td>\n",
       "      <td>SP</td>\n",
       "    </tr>\n",
       "    <tr>\n",
       "      <th>...</th>\n",
       "      <td>...</td>\n",
       "      <td>...</td>\n",
       "      <td>...</td>\n",
       "      <td>...</td>\n",
       "    </tr>\n",
       "    <tr>\n",
       "      <th>3090</th>\n",
       "      <td>98dddbc4601dd4443ca174359b237166</td>\n",
       "      <td>87111</td>\n",
       "      <td>sarandi</td>\n",
       "      <td>PR</td>\n",
       "    </tr>\n",
       "    <tr>\n",
       "      <th>3091</th>\n",
       "      <td>f8201cab383e484733266d1906e2fdfa</td>\n",
       "      <td>88137</td>\n",
       "      <td>palhoca</td>\n",
       "      <td>SC</td>\n",
       "    </tr>\n",
       "    <tr>\n",
       "      <th>3092</th>\n",
       "      <td>74871d19219c7d518d0090283e03c137</td>\n",
       "      <td>4650</td>\n",
       "      <td>sao paulo</td>\n",
       "      <td>SP</td>\n",
       "    </tr>\n",
       "    <tr>\n",
       "      <th>3093</th>\n",
       "      <td>e603cf3fec55f8697c9059638d6c8eb5</td>\n",
       "      <td>96080</td>\n",
       "      <td>pelotas</td>\n",
       "      <td>RS</td>\n",
       "    </tr>\n",
       "    <tr>\n",
       "      <th>3094</th>\n",
       "      <td>9e25199f6ef7e7c347120ff175652c3b</td>\n",
       "      <td>12051</td>\n",
       "      <td>taubate</td>\n",
       "      <td>SP</td>\n",
       "    </tr>\n",
       "  </tbody>\n",
       "</table>\n",
       "<p>3088 rows × 4 columns</p>\n",
       "</div>"
      ],
      "text/plain": [
       "                             seller_id  seller_zip_code_prefix  \\\n",
       "0     3442f8959a84dea7ee197c632cb2df15                   13023   \n",
       "1     d1b65fc7debc3361ea86b5f14c68d2e2                   13844   \n",
       "2     ce3ad9de960102d0677a81f5d0bb7b2d                   20031   \n",
       "3     c0f3eea2e14555b6faeea3dd58c1b1c3                    4195   \n",
       "4     51a04a8a6bdcb23deccc82b0b80742cf                   12914   \n",
       "...                                ...                     ...   \n",
       "3090  98dddbc4601dd4443ca174359b237166                   87111   \n",
       "3091  f8201cab383e484733266d1906e2fdfa                   88137   \n",
       "3092  74871d19219c7d518d0090283e03c137                    4650   \n",
       "3093  e603cf3fec55f8697c9059638d6c8eb5                   96080   \n",
       "3094  9e25199f6ef7e7c347120ff175652c3b                   12051   \n",
       "\n",
       "            seller_city seller_state  \n",
       "0              campinas           SP  \n",
       "1            mogi guacu           SP  \n",
       "2        rio de janeiro           RJ  \n",
       "3             sao paulo           SP  \n",
       "4     braganca paulista           SP  \n",
       "...                 ...          ...  \n",
       "3090            sarandi           PR  \n",
       "3091            palhoca           SC  \n",
       "3092          sao paulo           SP  \n",
       "3093            pelotas           RS  \n",
       "3094            taubate           SP  \n",
       "\n",
       "[3088 rows x 4 columns]"
      ]
     },
     "execution_count": 14,
     "metadata": {},
     "output_type": "execute_result"
    }
   ],
   "source": [
    "df_sellers"
   ]
  },
  {
   "cell_type": "code",
   "execution_count": 15,
   "metadata": {},
   "outputs": [
    {
     "data": {
      "text/plain": [
       "seller_city\n",
       "sao paulo         699\n",
       "curitiba          127\n",
       "rio de janeiro     99\n",
       "belo horizonte     68\n",
       "ribeirao preto     54\n",
       "                 ... \n",
       "lagoa santa         1\n",
       "orleans             1\n",
       "guarapuava          1\n",
       "sinop               1\n",
       "leme                1\n",
       "Name: count, Length: 588, dtype: int64"
      ]
     },
     "execution_count": 15,
     "metadata": {},
     "output_type": "execute_result"
    }
   ],
   "source": [
    "#Menghitung jumlah seller di setiap kota\n",
    "total_seller = df_sellers['seller_city'].value_counts\n",
    "total_seller()"
   ]
  },
  {
   "cell_type": "code",
   "execution_count": 16,
   "metadata": {},
   "outputs": [
    {
     "data": {
      "text/plain": [
       "seller_state\n",
       "SP    1846\n",
       "PR     347\n",
       "MG     244\n",
       "SC     189\n",
       "RJ     170\n",
       "RS     129\n",
       "GO      40\n",
       "DF      30\n",
       "ES      23\n",
       "BA      19\n",
       "CE      13\n",
       "PE       9\n",
       "PB       6\n",
       "RN       5\n",
       "MS       5\n",
       "MT       4\n",
       "RO       2\n",
       "SE       2\n",
       "PI       1\n",
       "AC       1\n",
       "MA       1\n",
       "AM       1\n",
       "PA       1\n",
       "Name: count, dtype: int64"
      ]
     },
     "execution_count": 16,
     "metadata": {},
     "output_type": "execute_result"
    }
   ],
   "source": [
    "#Menghitung jumlah seller di setiap negara\n",
    "total_seller_state = df_sellers['seller_state'].value_counts\n",
    "total_seller_state()"
   ]
  },
  {
   "cell_type": "code",
   "execution_count": 17,
   "metadata": {},
   "outputs": [
    {
     "data": {
      "text/html": [
       "<div>\n",
       "<style scoped>\n",
       "    .dataframe tbody tr th:only-of-type {\n",
       "        vertical-align: middle;\n",
       "    }\n",
       "\n",
       "    .dataframe tbody tr th {\n",
       "        vertical-align: top;\n",
       "    }\n",
       "\n",
       "    .dataframe thead th {\n",
       "        text-align: right;\n",
       "    }\n",
       "</style>\n",
       "<table border=\"1\" class=\"dataframe\">\n",
       "  <thead>\n",
       "    <tr style=\"text-align: right;\">\n",
       "      <th></th>\n",
       "      <th>seller_state</th>\n",
       "      <th>seller_city</th>\n",
       "      <th>Total_Seller</th>\n",
       "    </tr>\n",
       "  </thead>\n",
       "  <tbody>\n",
       "    <tr>\n",
       "      <th>572</th>\n",
       "      <td>SP</td>\n",
       "      <td>sao paulo</td>\n",
       "      <td>699</td>\n",
       "    </tr>\n",
       "    <tr>\n",
       "      <th>165</th>\n",
       "      <td>PR</td>\n",
       "      <td>curitiba</td>\n",
       "      <td>124</td>\n",
       "    </tr>\n",
       "    <tr>\n",
       "      <th>233</th>\n",
       "      <td>RJ</td>\n",
       "      <td>rio de janeiro</td>\n",
       "      <td>96</td>\n",
       "    </tr>\n",
       "    <tr>\n",
       "      <th>57</th>\n",
       "      <td>MG</td>\n",
       "      <td>belo horizonte</td>\n",
       "      <td>66</td>\n",
       "    </tr>\n",
       "    <tr>\n",
       "      <th>544</th>\n",
       "      <td>SP</td>\n",
       "      <td>ribeirao preto</td>\n",
       "      <td>54</td>\n",
       "    </tr>\n",
       "    <tr>\n",
       "      <th>...</th>\n",
       "      <td>...</td>\n",
       "      <td>...</td>\n",
       "      <td>...</td>\n",
       "    </tr>\n",
       "    <tr>\n",
       "      <th>240</th>\n",
       "      <td>RJ</td>\n",
       "      <td>tres rios</td>\n",
       "      <td>1</td>\n",
       "    </tr>\n",
       "    <tr>\n",
       "      <th>238</th>\n",
       "      <td>RJ</td>\n",
       "      <td>saquarema</td>\n",
       "      <td>1</td>\n",
       "    </tr>\n",
       "    <tr>\n",
       "      <th>237</th>\n",
       "      <td>RJ</td>\n",
       "      <td>sao pedro da aldeia</td>\n",
       "      <td>1</td>\n",
       "    </tr>\n",
       "    <tr>\n",
       "      <th>234</th>\n",
       "      <td>RJ</td>\n",
       "      <td>santo antonio de padua</td>\n",
       "      <td>1</td>\n",
       "    </tr>\n",
       "    <tr>\n",
       "      <th>306</th>\n",
       "      <td>SC</td>\n",
       "      <td>bombinhas</td>\n",
       "      <td>1</td>\n",
       "    </tr>\n",
       "  </tbody>\n",
       "</table>\n",
       "<p>613 rows × 3 columns</p>\n",
       "</div>"
      ],
      "text/plain": [
       "    seller_state             seller_city  Total_Seller\n",
       "572           SP               sao paulo           699\n",
       "165           PR                curitiba           124\n",
       "233           RJ          rio de janeiro            96\n",
       "57            MG          belo horizonte            66\n",
       "544           SP          ribeirao preto            54\n",
       "..           ...                     ...           ...\n",
       "240           RJ               tres rios             1\n",
       "238           RJ               saquarema             1\n",
       "237           RJ     sao pedro da aldeia             1\n",
       "234           RJ  santo antonio de padua             1\n",
       "306           SC               bombinhas             1\n",
       "\n",
       "[613 rows x 3 columns]"
      ]
     },
     "execution_count": 17,
     "metadata": {},
     "output_type": "execute_result"
    }
   ],
   "source": [
    "# Melakukan pengelompokan berdasarkan negara dan kota, dan menghitung jumlah penjual\n",
    "\n",
    "city_sellers_count = df_sellers.groupby(['seller_state', 'seller_city']).size().reset_index(name='Total_Seller')\n",
    "\n",
    "city_sellers_count_sorted = city_sellers_count.sort_values(by='Total_Seller', ascending=False)\n",
    "\n",
    "city_sellers_count_sorted"
   ]
  },
  {
   "cell_type": "markdown",
   "metadata": {
    "id": "th_Lzl2Fkj9O"
   },
   "source": [
    "**Insight:**\n",
    "- Distribusi Penjual per Kota:\n",
    "Kota Sao Paulo mendominasi dengan jumlah penjual terbanyak, yaitu 699 penjual. Ini menunjukkan bahwa kota tersebut adalah pusat aktivitas bisnis yang signifikan di marketplace ini.\n",
    "Kota-kota besar lainnya seperti Curitiba (124 penjual), Rio de Janeiro (96 penjual), dan Belo Horizonte (66 penjual) juga memiliki jumlah penjual yang cukup besar, mengindikasikan peran mereka sebagai pusat perdagangan penting di platform.\n",
    "\n",
    "- Distribusi Penjual per Negara Bagian:\n",
    "Negara bagian Sao Paulo (SP) memiliki jumlah penjual tertinggi dengan 1846 penjual, diikuti oleh Paraná (PR) dengan 347 penjual, dan Minas Gerais (MG) dengan 244 penjual. Ini menandakan bahwa sebagian besar penjual di marketplace ini berasal dari wilayah tenggara Brasil, terutama di sekitar Sao Paulo.\n",
    "Beberapa negara bagian seperti MA (Maranhão), AM (Amazonas), dan PA (Pará) hanya memiliki satu penjual, menunjukkan partisipasi yang sangat rendah dari wilayah utara dan timur laut Brasil.\n",
    "\n",
    "- Kota dengan Jumlah Penjual Sedikit:\n",
    "Ada beberapa kota yang hanya memiliki 1 penjual, seperti Tres Rios, Saquarema, dan Sao Pedro da Aldeia. Hal ini bisa menjadi peluang bagi marketplace untuk melakukan peningkatan partisipasi di kota-kota dengan jumlah penjual yang rendah.\n",
    "\n",
    "- Konsentrasi Penjual di Wilayah Urban:\n",
    "Sebagian besar penjual berada di kota-kota besar atau pusat urban, mengindikasikan bahwa urbanisasi berperan besar dalam aktivitas penjualan di platform ini.\n"
   ]
  },
  {
   "cell_type": "markdown",
   "metadata": {},
   "source": [
    "### Explore Product"
   ]
  },
  {
   "cell_type": "code",
   "execution_count": 18,
   "metadata": {},
   "outputs": [
    {
     "data": {
      "text/html": [
       "<div>\n",
       "<style scoped>\n",
       "    .dataframe tbody tr th:only-of-type {\n",
       "        vertical-align: middle;\n",
       "    }\n",
       "\n",
       "    .dataframe tbody tr th {\n",
       "        vertical-align: top;\n",
       "    }\n",
       "\n",
       "    .dataframe thead th {\n",
       "        text-align: right;\n",
       "    }\n",
       "</style>\n",
       "<table border=\"1\" class=\"dataframe\">\n",
       "  <thead>\n",
       "    <tr style=\"text-align: right;\">\n",
       "      <th></th>\n",
       "      <th>product_id</th>\n",
       "      <th>product_category_name</th>\n",
       "      <th>product_name_lenght</th>\n",
       "      <th>product_description_lenght</th>\n",
       "      <th>product_photos_qty</th>\n",
       "      <th>product_weight_g</th>\n",
       "      <th>product_length_cm</th>\n",
       "      <th>product_height_cm</th>\n",
       "      <th>product_width_cm</th>\n",
       "    </tr>\n",
       "  </thead>\n",
       "  <tbody>\n",
       "    <tr>\n",
       "      <th>0</th>\n",
       "      <td>1e9e8ef04dbcff4541ed26657ea517e5</td>\n",
       "      <td>perfumaria</td>\n",
       "      <td>40.0</td>\n",
       "      <td>287.0</td>\n",
       "      <td>1.0</td>\n",
       "      <td>225.0</td>\n",
       "      <td>16.0</td>\n",
       "      <td>10.0</td>\n",
       "      <td>14.0</td>\n",
       "    </tr>\n",
       "    <tr>\n",
       "      <th>1</th>\n",
       "      <td>3aa071139cb16b67ca9e5dea641aaa2f</td>\n",
       "      <td>artes</td>\n",
       "      <td>44.0</td>\n",
       "      <td>276.0</td>\n",
       "      <td>1.0</td>\n",
       "      <td>1000.0</td>\n",
       "      <td>30.0</td>\n",
       "      <td>18.0</td>\n",
       "      <td>20.0</td>\n",
       "    </tr>\n",
       "    <tr>\n",
       "      <th>2</th>\n",
       "      <td>96bd76ec8810374ed1b65e291975717f</td>\n",
       "      <td>esporte lazer</td>\n",
       "      <td>46.0</td>\n",
       "      <td>250.0</td>\n",
       "      <td>1.0</td>\n",
       "      <td>154.0</td>\n",
       "      <td>18.0</td>\n",
       "      <td>9.0</td>\n",
       "      <td>15.0</td>\n",
       "    </tr>\n",
       "    <tr>\n",
       "      <th>3</th>\n",
       "      <td>cef67bcfe19066a932b7673e239eb23d</td>\n",
       "      <td>bebes</td>\n",
       "      <td>27.0</td>\n",
       "      <td>261.0</td>\n",
       "      <td>1.0</td>\n",
       "      <td>371.0</td>\n",
       "      <td>26.0</td>\n",
       "      <td>4.0</td>\n",
       "      <td>26.0</td>\n",
       "    </tr>\n",
       "    <tr>\n",
       "      <th>4</th>\n",
       "      <td>9dc1a7de274444849c219cff195d0b71</td>\n",
       "      <td>utilidades domesticas</td>\n",
       "      <td>37.0</td>\n",
       "      <td>402.0</td>\n",
       "      <td>4.0</td>\n",
       "      <td>625.0</td>\n",
       "      <td>20.0</td>\n",
       "      <td>17.0</td>\n",
       "      <td>13.0</td>\n",
       "    </tr>\n",
       "    <tr>\n",
       "      <th>...</th>\n",
       "      <td>...</td>\n",
       "      <td>...</td>\n",
       "      <td>...</td>\n",
       "      <td>...</td>\n",
       "      <td>...</td>\n",
       "      <td>...</td>\n",
       "      <td>...</td>\n",
       "      <td>...</td>\n",
       "      <td>...</td>\n",
       "    </tr>\n",
       "    <tr>\n",
       "      <th>32946</th>\n",
       "      <td>a0b7d5a992ccda646f2d34e418fff5a0</td>\n",
       "      <td>moveis decoracao</td>\n",
       "      <td>45.0</td>\n",
       "      <td>67.0</td>\n",
       "      <td>2.0</td>\n",
       "      <td>12300.0</td>\n",
       "      <td>40.0</td>\n",
       "      <td>40.0</td>\n",
       "      <td>40.0</td>\n",
       "    </tr>\n",
       "    <tr>\n",
       "      <th>32947</th>\n",
       "      <td>bf4538d88321d0fd4412a93c974510e6</td>\n",
       "      <td>construcao ferramentas iluminacao</td>\n",
       "      <td>41.0</td>\n",
       "      <td>971.0</td>\n",
       "      <td>1.0</td>\n",
       "      <td>1700.0</td>\n",
       "      <td>16.0</td>\n",
       "      <td>19.0</td>\n",
       "      <td>16.0</td>\n",
       "    </tr>\n",
       "    <tr>\n",
       "      <th>32948</th>\n",
       "      <td>9a7c6041fa9592d9d9ef6cfe62a71f8c</td>\n",
       "      <td>cama mesa banho</td>\n",
       "      <td>50.0</td>\n",
       "      <td>799.0</td>\n",
       "      <td>1.0</td>\n",
       "      <td>1400.0</td>\n",
       "      <td>27.0</td>\n",
       "      <td>7.0</td>\n",
       "      <td>27.0</td>\n",
       "    </tr>\n",
       "    <tr>\n",
       "      <th>32949</th>\n",
       "      <td>83808703fc0706a22e264b9d75f04a2e</td>\n",
       "      <td>informatica acessorios</td>\n",
       "      <td>60.0</td>\n",
       "      <td>156.0</td>\n",
       "      <td>2.0</td>\n",
       "      <td>700.0</td>\n",
       "      <td>31.0</td>\n",
       "      <td>13.0</td>\n",
       "      <td>20.0</td>\n",
       "    </tr>\n",
       "    <tr>\n",
       "      <th>32950</th>\n",
       "      <td>106392145fca363410d287a815be6de4</td>\n",
       "      <td>cama mesa banho</td>\n",
       "      <td>58.0</td>\n",
       "      <td>309.0</td>\n",
       "      <td>1.0</td>\n",
       "      <td>2083.0</td>\n",
       "      <td>12.0</td>\n",
       "      <td>2.0</td>\n",
       "      <td>7.0</td>\n",
       "    </tr>\n",
       "  </tbody>\n",
       "</table>\n",
       "<p>32340 rows × 9 columns</p>\n",
       "</div>"
      ],
      "text/plain": [
       "                             product_id              product_category_name  \\\n",
       "0      1e9e8ef04dbcff4541ed26657ea517e5                         perfumaria   \n",
       "1      3aa071139cb16b67ca9e5dea641aaa2f                              artes   \n",
       "2      96bd76ec8810374ed1b65e291975717f                      esporte lazer   \n",
       "3      cef67bcfe19066a932b7673e239eb23d                              bebes   \n",
       "4      9dc1a7de274444849c219cff195d0b71              utilidades domesticas   \n",
       "...                                 ...                                ...   \n",
       "32946  a0b7d5a992ccda646f2d34e418fff5a0                   moveis decoracao   \n",
       "32947  bf4538d88321d0fd4412a93c974510e6  construcao ferramentas iluminacao   \n",
       "32948  9a7c6041fa9592d9d9ef6cfe62a71f8c                    cama mesa banho   \n",
       "32949  83808703fc0706a22e264b9d75f04a2e             informatica acessorios   \n",
       "32950  106392145fca363410d287a815be6de4                    cama mesa banho   \n",
       "\n",
       "       product_name_lenght  product_description_lenght  product_photos_qty  \\\n",
       "0                     40.0                       287.0                 1.0   \n",
       "1                     44.0                       276.0                 1.0   \n",
       "2                     46.0                       250.0                 1.0   \n",
       "3                     27.0                       261.0                 1.0   \n",
       "4                     37.0                       402.0                 4.0   \n",
       "...                    ...                         ...                 ...   \n",
       "32946                 45.0                        67.0                 2.0   \n",
       "32947                 41.0                       971.0                 1.0   \n",
       "32948                 50.0                       799.0                 1.0   \n",
       "32949                 60.0                       156.0                 2.0   \n",
       "32950                 58.0                       309.0                 1.0   \n",
       "\n",
       "       product_weight_g  product_length_cm  product_height_cm  \\\n",
       "0                 225.0               16.0               10.0   \n",
       "1                1000.0               30.0               18.0   \n",
       "2                 154.0               18.0                9.0   \n",
       "3                 371.0               26.0                4.0   \n",
       "4                 625.0               20.0               17.0   \n",
       "...                 ...                ...                ...   \n",
       "32946           12300.0               40.0               40.0   \n",
       "32947            1700.0               16.0               19.0   \n",
       "32948            1400.0               27.0                7.0   \n",
       "32949             700.0               31.0               13.0   \n",
       "32950            2083.0               12.0                2.0   \n",
       "\n",
       "       product_width_cm  \n",
       "0                  14.0  \n",
       "1                  20.0  \n",
       "2                  15.0  \n",
       "3                  26.0  \n",
       "4                  13.0  \n",
       "...                 ...  \n",
       "32946              40.0  \n",
       "32947              16.0  \n",
       "32948              27.0  \n",
       "32949              20.0  \n",
       "32950               7.0  \n",
       "\n",
       "[32340 rows x 9 columns]"
      ]
     },
     "execution_count": 18,
     "metadata": {},
     "output_type": "execute_result"
    }
   ],
   "source": [
    "df_products"
   ]
  },
  {
   "cell_type": "code",
   "execution_count": 19,
   "metadata": {},
   "outputs": [
    {
     "data": {
      "text/html": [
       "<div>\n",
       "<style scoped>\n",
       "    .dataframe tbody tr th:only-of-type {\n",
       "        vertical-align: middle;\n",
       "    }\n",
       "\n",
       "    .dataframe tbody tr th {\n",
       "        vertical-align: top;\n",
       "    }\n",
       "\n",
       "    .dataframe thead th {\n",
       "        text-align: right;\n",
       "    }\n",
       "</style>\n",
       "<table border=\"1\" class=\"dataframe\">\n",
       "  <thead>\n",
       "    <tr style=\"text-align: right;\">\n",
       "      <th></th>\n",
       "      <th>product_name_lenght</th>\n",
       "      <th>product_description_lenght</th>\n",
       "      <th>product_photos_qty</th>\n",
       "      <th>product_weight_g</th>\n",
       "      <th>product_length_cm</th>\n",
       "      <th>product_height_cm</th>\n",
       "      <th>product_width_cm</th>\n",
       "    </tr>\n",
       "  </thead>\n",
       "  <tbody>\n",
       "    <tr>\n",
       "      <th>count</th>\n",
       "      <td>32340.000000</td>\n",
       "      <td>32340.000000</td>\n",
       "      <td>32340.000000</td>\n",
       "      <td>32340.000000</td>\n",
       "      <td>32340.000000</td>\n",
       "      <td>32340.000000</td>\n",
       "      <td>32340.000000</td>\n",
       "    </tr>\n",
       "    <tr>\n",
       "      <th>mean</th>\n",
       "      <td>48.476592</td>\n",
       "      <td>771.492393</td>\n",
       "      <td>2.188961</td>\n",
       "      <td>2276.956586</td>\n",
       "      <td>30.854545</td>\n",
       "      <td>16.958813</td>\n",
       "      <td>23.208596</td>\n",
       "    </tr>\n",
       "    <tr>\n",
       "      <th>std</th>\n",
       "      <td>10.245699</td>\n",
       "      <td>635.124831</td>\n",
       "      <td>1.736787</td>\n",
       "      <td>4279.291845</td>\n",
       "      <td>16.955965</td>\n",
       "      <td>13.636115</td>\n",
       "      <td>12.078762</td>\n",
       "    </tr>\n",
       "    <tr>\n",
       "      <th>min</th>\n",
       "      <td>5.000000</td>\n",
       "      <td>4.000000</td>\n",
       "      <td>1.000000</td>\n",
       "      <td>0.000000</td>\n",
       "      <td>7.000000</td>\n",
       "      <td>2.000000</td>\n",
       "      <td>6.000000</td>\n",
       "    </tr>\n",
       "    <tr>\n",
       "      <th>25%</th>\n",
       "      <td>42.000000</td>\n",
       "      <td>339.000000</td>\n",
       "      <td>1.000000</td>\n",
       "      <td>300.000000</td>\n",
       "      <td>18.000000</td>\n",
       "      <td>8.000000</td>\n",
       "      <td>15.000000</td>\n",
       "    </tr>\n",
       "    <tr>\n",
       "      <th>50%</th>\n",
       "      <td>51.000000</td>\n",
       "      <td>595.000000</td>\n",
       "      <td>1.000000</td>\n",
       "      <td>700.000000</td>\n",
       "      <td>25.000000</td>\n",
       "      <td>13.000000</td>\n",
       "      <td>20.000000</td>\n",
       "    </tr>\n",
       "    <tr>\n",
       "      <th>75%</th>\n",
       "      <td>57.000000</td>\n",
       "      <td>972.000000</td>\n",
       "      <td>3.000000</td>\n",
       "      <td>1900.000000</td>\n",
       "      <td>38.000000</td>\n",
       "      <td>21.000000</td>\n",
       "      <td>30.000000</td>\n",
       "    </tr>\n",
       "    <tr>\n",
       "      <th>max</th>\n",
       "      <td>76.000000</td>\n",
       "      <td>3992.000000</td>\n",
       "      <td>20.000000</td>\n",
       "      <td>40425.000000</td>\n",
       "      <td>105.000000</td>\n",
       "      <td>105.000000</td>\n",
       "      <td>118.000000</td>\n",
       "    </tr>\n",
       "  </tbody>\n",
       "</table>\n",
       "</div>"
      ],
      "text/plain": [
       "       product_name_lenght  product_description_lenght  product_photos_qty  \\\n",
       "count         32340.000000                32340.000000        32340.000000   \n",
       "mean             48.476592                  771.492393            2.188961   \n",
       "std              10.245699                  635.124831            1.736787   \n",
       "min               5.000000                    4.000000            1.000000   \n",
       "25%              42.000000                  339.000000            1.000000   \n",
       "50%              51.000000                  595.000000            1.000000   \n",
       "75%              57.000000                  972.000000            3.000000   \n",
       "max              76.000000                 3992.000000           20.000000   \n",
       "\n",
       "       product_weight_g  product_length_cm  product_height_cm  \\\n",
       "count      32340.000000       32340.000000       32340.000000   \n",
       "mean        2276.956586          30.854545          16.958813   \n",
       "std         4279.291845          16.955965          13.636115   \n",
       "min            0.000000           7.000000           2.000000   \n",
       "25%          300.000000          18.000000           8.000000   \n",
       "50%          700.000000          25.000000          13.000000   \n",
       "75%         1900.000000          38.000000          21.000000   \n",
       "max        40425.000000         105.000000         105.000000   \n",
       "\n",
       "       product_width_cm  \n",
       "count      32340.000000  \n",
       "mean          23.208596  \n",
       "std           12.078762  \n",
       "min            6.000000  \n",
       "25%           15.000000  \n",
       "50%           20.000000  \n",
       "75%           30.000000  \n",
       "max          118.000000  "
      ]
     },
     "execution_count": 19,
     "metadata": {},
     "output_type": "execute_result"
    }
   ],
   "source": [
    "df_products.describe()"
   ]
  },
  {
   "cell_type": "code",
   "execution_count": 20,
   "metadata": {},
   "outputs": [
    {
     "data": {
      "text/plain": [
       "<Figure size 1500x1000 with 0 Axes>"
      ]
     },
     "metadata": {},
     "output_type": "display_data"
    },
    {
     "data": {
      "image/png": "[encoded data removed]",
      "text/plain": [
       "<Figure size 640x480 with 9 Axes>"
      ]
     },
     "metadata": {},
     "output_type": "display_data"
    }
   ],
   "source": [
    "plt.figure(figsize=(15, 10))\n",
    "df_products.hist()\n",
    "plt.tight_layout()\n",
    "plt.show()"
   ]
  },
  {
   "cell_type": "code",
   "execution_count": 21,
   "metadata": {},
   "outputs": [
    {
     "data": {
      "text/plain": [
       "product_category_name\n",
       "cama mesa banho                  3029\n",
       "esporte lazer                    2867\n",
       "moveis decoracao                 2657\n",
       "beleza saude                     2444\n",
       "utilidades domesticas            2335\n",
       "                                 ... \n",
       "fashion roupa infanto juvenil       5\n",
       "casa conforto 2                     5\n",
       "pc gamer                            3\n",
       "seguros e servicos                  2\n",
       "cds dvds musicais                   1\n",
       "Name: count, Length: 73, dtype: int64"
      ]
     },
     "execution_count": 21,
     "metadata": {},
     "output_type": "execute_result"
    }
   ],
   "source": [
    "total_product_category = df_products['product_category_name'].value_counts()\n",
    "total_product_category"
   ]
  },
  {
   "cell_type": "code",
   "execution_count": 22,
   "metadata": {},
   "outputs": [
    {
     "data": {
      "text/plain": [
       "array(['perfumaria', 'artes', 'esporte lazer', 'bebes',\n",
       "       'utilidades domesticas', 'instrumentos musicais', 'cool stuff',\n",
       "       'moveis decoracao', 'eletrodomesticos', 'brinquedos',\n",
       "       'cama mesa banho', 'construcao ferramentas seguranca',\n",
       "       'informatica acessorios', 'beleza saude', 'malas acessorios',\n",
       "       'ferramentas jardim', 'moveis escritorio', 'automotivo',\n",
       "       'eletronicos', 'fashion calcados', 'telefonia', 'papelaria',\n",
       "       'fashion bolsas e acessorios', 'pcs', 'casa construcao',\n",
       "       'relogios presentes', 'construcao ferramentas construcao',\n",
       "       'pet shop', 'eletroportateis', 'agro industria e comercio',\n",
       "       'moveis sala', 'sinalizacao e seguranca', 'climatizacao',\n",
       "       'consoles games', 'livros interesse geral',\n",
       "       'construcao ferramentas ferramentas',\n",
       "       'fashion underwear e moda praia', 'fashion roupa masculina',\n",
       "       'moveis cozinha area de servico jantar e jardim',\n",
       "       'industria comercio e negocios', 'telefonia fixa',\n",
       "       'construcao ferramentas iluminacao', 'livros tecnicos',\n",
       "       'eletrodomesticos 2', 'artigos de festas', 'bebidas',\n",
       "       'market place', 'la cuisine', 'construcao ferramentas jardim',\n",
       "       'fashion roupa feminina', 'casa conforto', 'audio',\n",
       "       'alimentos bebidas', 'musica', 'alimentos',\n",
       "       'tablets impressao imagem', 'livros importados',\n",
       "       'portateis casa forno e cafe', 'fashion esporte',\n",
       "       'artigos de natal', 'fashion roupa infanto juvenil',\n",
       "       'dvds blu ray', 'artes e artesanato', 'pc gamer', 'moveis quarto',\n",
       "       'cine foto', 'fraldas higiene', 'flores', 'casa conforto 2',\n",
       "       'portateis cozinha e preparadores de alimentos',\n",
       "       'seguros e servicos', 'moveis colchao e estofado',\n",
       "       'cds dvds musicais'], dtype=object)"
      ]
     },
     "execution_count": 22,
     "metadata": {},
     "output_type": "execute_result"
    }
   ],
   "source": [
    "df_products['product_category_name'].unique()"
   ]
  },
  {
   "cell_type": "markdown",
   "metadata": {},
   "source": [
    "**Insight**\n",
    "- Kategori Terpopuler: Kategori \"cama mesa banho\", \"esporte lazer\", dan \"moveis decoracao\" memiliki jumlah produk terbanyak, menunjukkan permintaan pasar yang tinggi.\n",
    "- Deskripsi dan Foto Minimal: Sebagian besar produk memiliki deskripsi singkat dan hanya 1-2 foto, yang bisa mengurangi daya tarik visual produk.\n",
    "- Dimensi dan Berat Produk: Mayoritas produk berukuran kecil hingga sedang, dengan berat di bawah 5 kg, cocok untuk pengiriman online."
   ]
  },
  {
   "cell_type": "markdown",
   "metadata": {},
   "source": [
    "### Explore Order Payment"
   ]
  },
  {
   "cell_type": "code",
   "execution_count": 23,
   "metadata": {},
   "outputs": [
    {
     "data": {
      "text/html": [
       "<div>\n",
       "<style scoped>\n",
       "    .dataframe tbody tr th:only-of-type {\n",
       "        vertical-align: middle;\n",
       "    }\n",
       "\n",
       "    .dataframe tbody tr th {\n",
       "        vertical-align: top;\n",
       "    }\n",
       "\n",
       "    .dataframe thead th {\n",
       "        text-align: right;\n",
       "    }\n",
       "</style>\n",
       "<table border=\"1\" class=\"dataframe\">\n",
       "  <thead>\n",
       "    <tr style=\"text-align: right;\">\n",
       "      <th></th>\n",
       "      <th>order_id</th>\n",
       "      <th>payment_sequential</th>\n",
       "      <th>payment_type</th>\n",
       "      <th>payment_installments</th>\n",
       "      <th>payment_value</th>\n",
       "    </tr>\n",
       "  </thead>\n",
       "  <tbody>\n",
       "    <tr>\n",
       "      <th>0</th>\n",
       "      <td>b81ef226f3fe1789b1e8b2acac839d17</td>\n",
       "      <td>1</td>\n",
       "      <td>credit_card</td>\n",
       "      <td>8</td>\n",
       "      <td>99.33</td>\n",
       "    </tr>\n",
       "    <tr>\n",
       "      <th>1</th>\n",
       "      <td>a9810da82917af2d9aefd1278f1dcfa0</td>\n",
       "      <td>1</td>\n",
       "      <td>credit_card</td>\n",
       "      <td>1</td>\n",
       "      <td>24.39</td>\n",
       "    </tr>\n",
       "    <tr>\n",
       "      <th>2</th>\n",
       "      <td>25e8ea4e93396b6fa0d3dd708e76c1bd</td>\n",
       "      <td>1</td>\n",
       "      <td>credit_card</td>\n",
       "      <td>1</td>\n",
       "      <td>65.71</td>\n",
       "    </tr>\n",
       "    <tr>\n",
       "      <th>3</th>\n",
       "      <td>ba78997921bbcdc1373bb41e913ab953</td>\n",
       "      <td>1</td>\n",
       "      <td>credit_card</td>\n",
       "      <td>8</td>\n",
       "      <td>107.78</td>\n",
       "    </tr>\n",
       "    <tr>\n",
       "      <th>4</th>\n",
       "      <td>42fdf880ba16b47b59251dd489d4441a</td>\n",
       "      <td>1</td>\n",
       "      <td>credit_card</td>\n",
       "      <td>2</td>\n",
       "      <td>128.45</td>\n",
       "    </tr>\n",
       "    <tr>\n",
       "      <th>...</th>\n",
       "      <td>...</td>\n",
       "      <td>...</td>\n",
       "      <td>...</td>\n",
       "      <td>...</td>\n",
       "      <td>...</td>\n",
       "    </tr>\n",
       "    <tr>\n",
       "      <th>103881</th>\n",
       "      <td>0406037ad97740d563a178ecc7a2075c</td>\n",
       "      <td>1</td>\n",
       "      <td>boleto</td>\n",
       "      <td>1</td>\n",
       "      <td>363.31</td>\n",
       "    </tr>\n",
       "    <tr>\n",
       "      <th>103882</th>\n",
       "      <td>7b905861d7c825891d6347454ea7863f</td>\n",
       "      <td>1</td>\n",
       "      <td>credit_card</td>\n",
       "      <td>2</td>\n",
       "      <td>96.80</td>\n",
       "    </tr>\n",
       "    <tr>\n",
       "      <th>103883</th>\n",
       "      <td>32609bbb3dd69b3c066a6860554a77bf</td>\n",
       "      <td>1</td>\n",
       "      <td>credit_card</td>\n",
       "      <td>1</td>\n",
       "      <td>47.77</td>\n",
       "    </tr>\n",
       "    <tr>\n",
       "      <th>103884</th>\n",
       "      <td>b8b61059626efa996a60be9bb9320e10</td>\n",
       "      <td>1</td>\n",
       "      <td>credit_card</td>\n",
       "      <td>5</td>\n",
       "      <td>369.54</td>\n",
       "    </tr>\n",
       "    <tr>\n",
       "      <th>103885</th>\n",
       "      <td>28bbae6599b09d39ca406b747b6632b1</td>\n",
       "      <td>1</td>\n",
       "      <td>boleto</td>\n",
       "      <td>1</td>\n",
       "      <td>191.58</td>\n",
       "    </tr>\n",
       "  </tbody>\n",
       "</table>\n",
       "<p>103886 rows × 5 columns</p>\n",
       "</div>"
      ],
      "text/plain": [
       "                                order_id  payment_sequential payment_type  \\\n",
       "0       b81ef226f3fe1789b1e8b2acac839d17                   1  credit_card   \n",
       "1       a9810da82917af2d9aefd1278f1dcfa0                   1  credit_card   \n",
       "2       25e8ea4e93396b6fa0d3dd708e76c1bd                   1  credit_card   \n",
       "3       ba78997921bbcdc1373bb41e913ab953                   1  credit_card   \n",
       "4       42fdf880ba16b47b59251dd489d4441a                   1  credit_card   \n",
       "...                                  ...                 ...          ...   \n",
       "103881  0406037ad97740d563a178ecc7a2075c                   1       boleto   \n",
       "103882  7b905861d7c825891d6347454ea7863f                   1  credit_card   \n",
       "103883  32609bbb3dd69b3c066a6860554a77bf                   1  credit_card   \n",
       "103884  b8b61059626efa996a60be9bb9320e10                   1  credit_card   \n",
       "103885  28bbae6599b09d39ca406b747b6632b1                   1       boleto   \n",
       "\n",
       "        payment_installments  payment_value  \n",
       "0                          8          99.33  \n",
       "1                          1          24.39  \n",
       "2                          1          65.71  \n",
       "3                          8         107.78  \n",
       "4                          2         128.45  \n",
       "...                      ...            ...  \n",
       "103881                     1         363.31  \n",
       "103882                     2          96.80  \n",
       "103883                     1          47.77  \n",
       "103884                     5         369.54  \n",
       "103885                     1         191.58  \n",
       "\n",
       "[103886 rows x 5 columns]"
      ]
     },
     "execution_count": 23,
     "metadata": {},
     "output_type": "execute_result"
    }
   ],
   "source": [
    "df_payments"
   ]
  },
  {
   "cell_type": "code",
   "execution_count": 24,
   "metadata": {},
   "outputs": [
    {
     "data": {
      "text/html": [
       "<div>\n",
       "<style scoped>\n",
       "    .dataframe tbody tr th:only-of-type {\n",
       "        vertical-align: middle;\n",
       "    }\n",
       "\n",
       "    .dataframe tbody tr th {\n",
       "        vertical-align: top;\n",
       "    }\n",
       "\n",
       "    .dataframe thead th {\n",
       "        text-align: right;\n",
       "    }\n",
       "</style>\n",
       "<table border=\"1\" class=\"dataframe\">\n",
       "  <thead>\n",
       "    <tr style=\"text-align: right;\">\n",
       "      <th></th>\n",
       "      <th>payment_type</th>\n",
       "      <th>payment_value</th>\n",
       "    </tr>\n",
       "  </thead>\n",
       "  <tbody>\n",
       "    <tr>\n",
       "      <th>1</th>\n",
       "      <td>credit_card</td>\n",
       "      <td>12542084.19</td>\n",
       "    </tr>\n",
       "    <tr>\n",
       "      <th>0</th>\n",
       "      <td>boleto</td>\n",
       "      <td>2869361.27</td>\n",
       "    </tr>\n",
       "    <tr>\n",
       "      <th>4</th>\n",
       "      <td>voucher</td>\n",
       "      <td>379436.87</td>\n",
       "    </tr>\n",
       "    <tr>\n",
       "      <th>2</th>\n",
       "      <td>debit_card</td>\n",
       "      <td>217989.79</td>\n",
       "    </tr>\n",
       "    <tr>\n",
       "      <th>3</th>\n",
       "      <td>not_defined</td>\n",
       "      <td>0.00</td>\n",
       "    </tr>\n",
       "  </tbody>\n",
       "</table>\n",
       "</div>"
      ],
      "text/plain": [
       "  payment_type  payment_value\n",
       "1  credit_card    12542084.19\n",
       "0       boleto     2869361.27\n",
       "4      voucher      379436.87\n",
       "2   debit_card      217989.79\n",
       "3  not_defined           0.00"
      ]
     },
     "execution_count": 24,
     "metadata": {},
     "output_type": "execute_result"
    }
   ],
   "source": [
    "grouped_data = df_payments.groupby(\"payment_type\")[\"payment_value\"].sum().reset_index()\n",
    "grouped_data = grouped_data.sort_values(by=\"payment_value\", ascending=False)\n",
    "\n",
    "grouped_data"
   ]
  },
  {
   "cell_type": "markdown",
   "metadata": {},
   "source": [
    "**Insight**\n",
    "- Metode Pembayaran Terbesar: Credit card adalah metode pembayaran terbesar dengan total nilai 12.5 juta, diikuti oleh boleto sebesar 2.8 juta.\n",
    "- Dominasi Credit Card: Credit card mendominasi metode pembayaran, jauh melebihi metode lain seperti boleto, voucher, dan debit card."
   ]
  },
  {
   "cell_type": "markdown",
   "metadata": {
    "id": "zsyZjqak8DC2"
   },
   "source": [
    "## Visualization & Explanatory Analysis"
   ]
  },
  {
   "cell_type": "markdown",
   "metadata": {
    "id": "HZxOiQ6n8DC2"
   },
   "source": [
    "### Pertanyaan 1: Berdasarkan data jumlah penjual di setiap kota, apa saja 10 kota teratas dengan jumlah penjual terbanyak?"
   ]
  },
  {
   "cell_type": "code",
   "execution_count": 25,
   "metadata": {},
   "outputs": [
    {
     "data": {
      "image/png": "[encoded data removed]",
      "text/plain": [
       "<Figure size 1000x600 with 1 Axes>"
      ]
     },
     "metadata": {},
     "output_type": "display_data"
    }
   ],
   "source": [
    "# Mengambil 10 data teratas\n",
    "top_10_cities = city_sellers_count_sorted.head(10)\n",
    "\n",
    "# Membuat gradasi warna dari yang lebih tua ke yang lebih muda\n",
    "colors = plt.cm.Blues(np.linspace(0.8, 0.2, len(top_10_cities)))  # Menggunakan gradasi lebih tua ke lebih muda\n",
    "\n",
    "# Membuat bar chart\n",
    "plt.figure(figsize=(10, 6))\n",
    "plt.bar(top_10_cities['seller_city'], top_10_cities['Total_Seller'], color=colors)\n",
    "plt.xlabel('City')\n",
    "plt.ylabel('Total Sellers')\n",
    "plt.title('Top 10 Cities by Total Sellers')\n",
    "plt.xticks(rotation=45, ha='right')\n",
    "plt.tight_layout()\n",
    "plt.show()\n"
   ]
  },
  {
   "cell_type": "markdown",
   "metadata": {
    "id": "DgHI7CiU8DC2"
   },
   "source": [
    "### Pertanyaan 2: Apa 10 kategori produk yang paling populer?"
   ]
  },
  {
   "cell_type": "code",
   "execution_count": 26,
   "metadata": {},
   "outputs": [
    {
     "data": {
      "image/png": "[encoded data removed]",
      "text/plain": [
       "<Figure size 1200x600 with 1 Axes>"
      ]
     },
     "metadata": {},
     "output_type": "display_data"
    }
   ],
   "source": [
    "import matplotlib.pyplot as plt\n",
    "\n",
    "# Mengambil 10 kategori teratas\n",
    "top_10_categories = total_product_category.head(10)\n",
    "\n",
    "# Menentukan kategori terbanyak\n",
    "max_value = top_10_categories.max()\n",
    "\n",
    "# Mengatur warna: kategori yang paling sering muncul warna barnya lebih tua\n",
    "colors = ['darkred' if value == max_value else 'lightcoral' for value in top_10_categories]\n",
    "\n",
    "# Membuat Bar Chart\n",
    "plt.figure(figsize=(12, 6))  # Ukuran figure\n",
    "top_10_categories.plot(kind='bar', color=colors)  # Membuat bar chart dengan warna yang berbeda sesuai jumlah produk\n",
    "\n",
    "# Memberikan label dan judul\n",
    "plt.title('Top 10 Product Category Distribution', fontsize=16, pad=20)\n",
    "plt.xlabel('Product Category', fontsize=12)\n",
    "plt.ylabel('Number of Products', fontsize=12)\n",
    "\n",
    "# Memutar label kategori produk agar lebih mudah dibaca\n",
    "plt.xticks(rotation=45, ha='right')\n",
    "\n",
    "# Mengatur layout agar lebih rapi\n",
    "plt.tight_layout()\n",
    "\n",
    "# Menampilkan plot\n",
    "plt.show()\n"
   ]
  },
  {
   "cell_type": "markdown",
   "metadata": {
    "id": "DgHI7CiU8DC2"
   },
   "source": [
    "### Pertanyaan 3: Apa jenis pembayaran yang paling banyak digunakan dan berapa total uang yang dibayarkan menggunakan jenis pembayaran tersebut?"
   ]
  },
  {
   "cell_type": "code",
   "execution_count": 27,
   "metadata": {},
   "outputs": [
    {
     "data": {
      "image/png": "[encoded data removed]",
      "text/plain": [
       "<Figure size 1000x600 with 1 Axes>"
      ]
     },
     "metadata": {},
     "output_type": "display_data"
    }
   ],
   "source": [
    "import matplotlib.pyplot as plt\n",
    "\n",
    "# Mengambil nilai maksimum dari data\n",
    "max_value = grouped_data['payment_value'].max()\n",
    "\n",
    "# Mengatur warna: pink tua untuk nilai maksimum, pink pudar untuk yang lainnya\n",
    "colors = ['#FF1493' if value == max_value else '#FFB6C1' for value in grouped_data['payment_value']]  # Pink tua (#FF1493) dan pink pudar (#FFB6C1)\n",
    "\n",
    "# Plot\n",
    "plt.figure(figsize=(10, 6))\n",
    "bars = plt.barh(grouped_data['payment_type'], grouped_data['payment_value'], color=colors)\n",
    "plt.xlabel('Total Payment Value')\n",
    "plt.ylabel('Payment Type')\n",
    "plt.title('Total Payment Value by Payment Type')\n",
    "plt.gca().invert_yaxis()\n",
    "\n",
    "plt.tight_layout()\n",
    "plt.show()\n"
   ]
  },
  {
   "cell_type": "markdown",
   "metadata": {
    "id": "9y4VUsmcYNZ5"
   },
   "source": [
    "## Analisis Lanjutan (Opsional)"
   ]
  },
  {
   "cell_type": "markdown",
   "metadata": {
    "id": "iWhnzsJGYUCO"
   },
   "source": [
    "### Binning Berdasarkan Transaksi"
   ]
  },
  {
   "cell_type": "code",
   "execution_count": 28,
   "metadata": {},
   "outputs": [
    {
     "data": {
      "image/png": "[encoded data removed]",
      "text/plain": [
       "<Figure size 800x600 with 1 Axes>"
      ]
     },
     "metadata": {},
     "output_type": "display_data"
    }
   ],
   "source": [
    "import matplotlib.pyplot as plt\n",
    "\n",
    "# Membuat bins untuk transaction value\n",
    "bins = [0, 100, 500, float('inf')]  # Define the bin ranges\n",
    "labels = ['Small Transaction', 'Medium Transaction', 'Large Transaction']  # Labels for each bin\n",
    "\n",
    "# Menerapkan binning pada kolom payment_value\n",
    "df_payments['transaction_category'] = pd.cut(df_payments['payment_value'], bins=bins, labels=labels, right=False)\n",
    "\n",
    "# Mengelompokkan transaksi berdasarkan kategori\n",
    "transaction_binning = df_payments.groupby('transaction_category').size()\n",
    "\n",
    "# Membalik warna: hijau tua untuk Small Transaction, hijau muda untuk Large Transaction\n",
    "colors = plt.cm.Greens(np.linspace(0.8, 0.4, len(transaction_binning)))\n",
    "\n",
    "# Membuat diagram donat\n",
    "plt.figure(figsize=(8, 6))\n",
    "plt.pie(transaction_binning, labels=transaction_binning.index, colors=colors, autopct='%1.1f%%', startangle=90, wedgeprops={'edgecolor': 'white'}, pctdistance=0.85)\n",
    "\n",
    "# Menambahkan lingkaran di tengah untuk membuatnya seperti donat\n",
    "centre_circle = plt.Circle((0, 0), 0.60, fc='white')\n",
    "plt.gca().add_artist(centre_circle)\n",
    "\n",
    "# Menambahkan judul\n",
    "plt.title('Transaction Distribution Based on Value Category')\n",
    "\n",
    "# Menampilkan plot\n",
    "plt.tight_layout()\n",
    "plt.show()\n"
   ]
  },
  {
   "cell_type": "markdown",
   "metadata": {},
   "source": [
    "**Insight**\n",
    "- Transaksi Kecil (Small Transaction) mendominasi jumlah transaksi, yaitu sebesar 49.9%. Hal ini menunjukkan bahwa mayoritas pelanggan melakukan transaksi dengan nilai yang relatif kecil (di bawah 100). Ini bisa menjadi indikasi bahwa produk atau layanan dengan harga terjangkau atau diskon menarik banyak pelanggan.\n",
    "\n",
    "- Transaksi Sedang (Medium Transaction) juga memiliki porsi yang cukup besar, yaitu 46%, yang hampir sama dengan transaksi kecil. Ini menunjukkan bahwa ada sejumlah besar pelanggan yang melakukan transaksi dengan nilai yang berada di rentang menengah (antara 100 hingga 500). Produk di kisaran harga ini juga populer di kalangan pelanggan.\n",
    "\n",
    "- Transaksi Besar (Large Transaction) memiliki porsi yang sangat kecil, yaitu hanya 4.1%. Ini menunjukkan bahwa hanya sedikit pelanggan yang melakukan transaksi dengan nilai di atas 500. Produk atau layanan yang bernilai tinggi mungkin lebih jarang dibeli, dan ada potensi untuk memahami lebih lanjut alasan di balik rendahnya jumlah transaksi in"
   ]
  },
  {
   "cell_type": "markdown",
   "metadata": {
    "id": "_WeHlCeX8DC2"
   },
   "source": [
    "## Conclusion"
   ]
  },
  {
   "cell_type": "markdown",
   "metadata": {
    "id": "ZTcyR48Y8DC2"
   },
   "source": [
    "1. Terdapat sepuluh kota asal dengan jumlah penjual terbanyak, termasuk Sao Paulo, Curitiba, Rio de Janeiro, Belo Horizonte, Ribeirão Preto, Guarulhos, Ibitinga, Santo André, Campinas, dan Maringá. Sao Paulo, yang terletak di negara bagian SP, memiliki jumlah penjual sebanyak 699 orang.\n",
    "\n",
    "2. Kategori produk yang paling laris atau sering dijual oleh para penjual adalah dekorasi mevois, kecantikan dan kesehatan, perlengkapan tempat tidur & mandi, otomotif, olahraga dan rekreasi, serta kebutuhan rumah tangga.\n",
    "\n",
    "3. E-commerce ini menyediakan empat jenis pembayaran, yaitu kartu kredit, boleto, voucher, dan kartu debit. Metode pembayaran yang paling sering digunakan adalah kartu kredit dengan total nilai pembayaran sebesar 12.542.084,19.\n",
    "   \n",
    "4. Sebagian besar transaksi yang terjadi di platform ini memiliki nilai kecil atau menengah, sedangkan transaksi dengan nilai besar jauh lebih jarang terjadi. Hal ini bisa membantu dalam merancang strategi pemasaran atau penawaran yang lebih fokus pada transaksi bernilai kecil dan menengah. \n",
    "\n"
   ]
  },
  {
   "cell_type": "code",
   "execution_count": 29,
   "metadata": {},
   "outputs": [],
   "source": [
    "main_data = pd.concat([df_sellers, df_products, df_payments], ignore_index=True)\n",
    "main_data.to_csv(\"main_data.csv\", index=False)"
   ]
  },
  {
   "cell_type": "code",
   "execution_count": 30,
   "metadata": {},
   "outputs": [
    {
     "name": "stderr",
     "output_type": "stream",
     "text": [
      "INFO: Not scanning for jupyter notebooks.\n",
      "WARNING: Import named \"seaborn\" not found locally. Trying to resolve it at the PyPI server.\n",
      "WARNING: Import named \"seaborn\" was resolved to \"seaborn:0.13.2\" package (https://pypi.org/project/seaborn/).\n",
      "Please, verify manually the final list of requirements.txt to avoid possible dependency confusions.\n",
      "INFO: Successfully saved requirements file in c:\\Users\\Lenovo\\Downloads\\submission\\requirements.txt\n"
     ]
    }
   ],
   "source": [
    "!pipreqs"
   ]
  }
 ],
 "metadata": {
  "colab": {
   "provenance": []
  },
  "kernelspec": {
   "display_name": "Python 3 (ipykernel)",
   "language": "python",
   "name": "python3"
  },
  "language_info": {
   "codemirror_mode": {
    "name": "ipython",
    "version": 3
   },
   "file_extension": ".py",
   "mimetype": "text/x-python",
   "name": "python",
   "nbconvert_exporter": "python",
   "pygments_lexer": "ipython3",
   "version": "3.9.0"
  },
  "vscode": {
   "interpreter": {
    "hash": "972b3bf27e332e87b5379f2791f6ef9dfc79c71018c370b0d7423235e20fe4d7"
   }
  }
 },
 "nbformat": 4,
 "nbformat_minor": 4
}
